{
 "cells": [
  {
   "cell_type": "markdown",
   "metadata": {},
   "source": [
    "# ***Voorspellen van Verhuuraantallen*** \n",
    "\n",
    "|Teamleden|Kaggle Username|GitHub Username|\n",
    "|--|--|--|\n",
    "|Busse Heemskerk|bussejheemskerk|BJHeemskerk|\n",
    "|Declan van den Hoek|declanvdh|DeclanvandenHoek|\n",
    "|Isa Dijkstra|isadijkstra|IsaD01|\n",
    "\n",
    "In dit notebook worden er, aan de hand van een train dataset, verschillende Machine Learning modellen opgesteld om de meest accurate manier te vinden om de verhuuraantallen te voorspellen. Er is niet bekend gemaakt wat het product is dat wordt verhuurd. Voor het project hebben we gewerkt in [GitHub](https://github.com/BJHeemskerk/MachineLearning/tree/main/Verhuuraantallen), om makkelijk de bestanden te delen. Van elk model zijn de voorspellingen ook geupload naar [Kaggle](https://www.kaggle.com/competitions/voorspel-verhuuraantallen-2023)."
   ]
  }
 ],
 "metadata": {
  "language_info": {
   "name": "python"
  }
 },
 "nbformat": 4,
 "nbformat_minor": 2
}
