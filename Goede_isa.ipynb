{
 "cells": [
  {
   "cell_type": "markdown",
   "metadata": {},
   "source": [
    "# ***Voorspellen van Diabetes***\n",
    "\n",
    "Teamleden:\n",
    "- Busse Heemskerk\n",
    "- Declan van den Hoek\n",
    "- Isa Dijkstra\n",
    "\n",
    "In dit notebook worden er, aan de hand van een train dataset, verschillende Machine Learning modellen opgesteld om de meest accurate manier te vinden om diabetes te voorspellen."
   ]
  },
  {
   "cell_type": "markdown",
   "metadata": {},
   "source": [
    "#### **Het inladen van de datasets en importeren van libaries**"
   ]
  },
  {
   "cell_type": "code",
   "execution_count": 1,
   "metadata": {},
   "outputs": [],
   "source": [
    "import pandas as pd\n",
    "import numpy as np\n",
    "import seaborn as sns\n",
    "import matplotlib.pyplot as plt\n",
    "from sklearn.model_selection import RepeatedStratifiedKFold, GridSearchCV\n",
    "import datetime\n",
    "from sklearn.linear_model import LogisticRegression\n",
    "from sklearn.metrics import f1_score\n",
    "from sklearn.tree import DecisionTreeClassifier\n",
    "from sklearn.ensemble import RandomForestClassifier\n",
    "from sklearn.svm import SVC\n",
    "from sklearn.ensemble import GradientBoostingClassifier"
   ]
  },
  {
   "cell_type": "code",
   "execution_count": 2,
   "metadata": {},
   "outputs": [],
   "source": [
    "data_test = pd.read_csv('test_c.csv', sep = ',')\n",
    "data_train = pd.read_csv('train_c.csv', sep = ',')"
   ]
  },
  {
   "cell_type": "markdown",
   "metadata": {},
   "source": [
    "## **Explorative Data Analysis**\n",
    "\n",
    "De minimale vereisten voor Machine Learning met Scikit Learn zijn:\n",
    "\n",
    "- De data mag geen missende waardes hebben\n",
    "- De data moet bestaan uit numerieke waardes\n",
    "- De data moet in een dataframe staan\n",
    "\n",
    "Omdat de data is ingelezen via Pandas staat het al in een Pandas DataFrame, hierdoor kan gebruik gemaakt worden van de .info() methode van DataFrames om te kijken naar missende waarden en de datatypen."
   ]
  },
  {
   "cell_type": "code",
   "execution_count": 3,
   "metadata": {},
   "outputs": [
    {
     "name": "stdout",
     "output_type": "stream",
     "text": [
      "<class 'pandas.core.frame.DataFrame'>\n",
      "RangeIndex: 614 entries, 0 to 613\n",
      "Data columns (total 10 columns):\n",
      " #   Column                    Non-Null Count  Dtype  \n",
      "---  ------                    --------------  -----  \n",
      " 0   p_id                      614 non-null    int64  \n",
      " 1   Pregnancies               614 non-null    int64  \n",
      " 2   Glucose                   614 non-null    int64  \n",
      " 3   BloodPressure             614 non-null    int64  \n",
      " 4   SkinThickness             614 non-null    int64  \n",
      " 5   Insulin                   614 non-null    int64  \n",
      " 6   BMI                       614 non-null    float64\n",
      " 7   DiabetesPedigreeFunction  614 non-null    float64\n",
      " 8   Age                       614 non-null    int64  \n",
      " 9   Outcome                   614 non-null    int64  \n",
      "dtypes: float64(2), int64(8)\n",
      "memory usage: 48.1 KB\n"
     ]
    }
   ],
   "source": [
    "data_train.info()"
   ]
  },
  {
   "cell_type": "markdown",
   "metadata": {},
   "source": [
    "Zoals te zien is in het bovenstaande schema, vallen alle datatypen onder interger en float. Dit zijn de twee numerieke datatypen, dus aan deze voorwaarde is voldaan. De voorwaarde van missende waarden lijkt ook voldaan te zijn, maar voordat dit wordt bepaald duiken we eerst iets verder de data in."
   ]
  },
  {
   "cell_type": "code",
   "execution_count": 4,
   "metadata": {},
   "outputs": [
    {
     "data": {
      "text/html": [
       "<div>\n",
       "<style scoped>\n",
       "    .dataframe tbody tr th:only-of-type {\n",
       "        vertical-align: middle;\n",
       "    }\n",
       "\n",
       "    .dataframe tbody tr th {\n",
       "        vertical-align: top;\n",
       "    }\n",
       "\n",
       "    .dataframe thead th {\n",
       "        text-align: right;\n",
       "    }\n",
       "</style>\n",
       "<table border=\"1\" class=\"dataframe\">\n",
       "  <thead>\n",
       "    <tr style=\"text-align: right;\">\n",
       "      <th></th>\n",
       "      <th>p_id</th>\n",
       "      <th>Pregnancies</th>\n",
       "      <th>Glucose</th>\n",
       "      <th>BloodPressure</th>\n",
       "      <th>SkinThickness</th>\n",
       "      <th>Insulin</th>\n",
       "      <th>BMI</th>\n",
       "      <th>DiabetesPedigreeFunction</th>\n",
       "      <th>Age</th>\n",
       "      <th>Outcome</th>\n",
       "    </tr>\n",
       "  </thead>\n",
       "  <tbody>\n",
       "    <tr>\n",
       "      <th>count</th>\n",
       "      <td>614.000000</td>\n",
       "      <td>614.000000</td>\n",
       "      <td>614.000000</td>\n",
       "      <td>614.000000</td>\n",
       "      <td>614.000000</td>\n",
       "      <td>614.000000</td>\n",
       "      <td>614.000000</td>\n",
       "      <td>614.000000</td>\n",
       "      <td>614.000000</td>\n",
       "      <td>614.000000</td>\n",
       "    </tr>\n",
       "    <tr>\n",
       "      <th>mean</th>\n",
       "      <td>385.542345</td>\n",
       "      <td>3.809446</td>\n",
       "      <td>120.465798</td>\n",
       "      <td>68.903909</td>\n",
       "      <td>20.456026</td>\n",
       "      <td>81.250814</td>\n",
       "      <td>31.929642</td>\n",
       "      <td>0.468096</td>\n",
       "      <td>33.265472</td>\n",
       "      <td>0.342020</td>\n",
       "    </tr>\n",
       "    <tr>\n",
       "      <th>std</th>\n",
       "      <td>222.135103</td>\n",
       "      <td>3.375544</td>\n",
       "      <td>31.959619</td>\n",
       "      <td>19.933385</td>\n",
       "      <td>16.063105</td>\n",
       "      <td>116.947384</td>\n",
       "      <td>8.136791</td>\n",
       "      <td>0.329203</td>\n",
       "      <td>11.851427</td>\n",
       "      <td>0.474773</td>\n",
       "    </tr>\n",
       "    <tr>\n",
       "      <th>min</th>\n",
       "      <td>0.000000</td>\n",
       "      <td>0.000000</td>\n",
       "      <td>0.000000</td>\n",
       "      <td>0.000000</td>\n",
       "      <td>0.000000</td>\n",
       "      <td>0.000000</td>\n",
       "      <td>0.000000</td>\n",
       "      <td>0.078000</td>\n",
       "      <td>21.000000</td>\n",
       "      <td>0.000000</td>\n",
       "    </tr>\n",
       "    <tr>\n",
       "      <th>25%</th>\n",
       "      <td>194.250000</td>\n",
       "      <td>1.000000</td>\n",
       "      <td>99.000000</td>\n",
       "      <td>62.000000</td>\n",
       "      <td>0.000000</td>\n",
       "      <td>0.000000</td>\n",
       "      <td>27.400000</td>\n",
       "      <td>0.238000</td>\n",
       "      <td>24.000000</td>\n",
       "      <td>0.000000</td>\n",
       "    </tr>\n",
       "    <tr>\n",
       "      <th>50%</th>\n",
       "      <td>380.500000</td>\n",
       "      <td>3.000000</td>\n",
       "      <td>115.000000</td>\n",
       "      <td>72.000000</td>\n",
       "      <td>23.000000</td>\n",
       "      <td>27.000000</td>\n",
       "      <td>32.150000</td>\n",
       "      <td>0.365500</td>\n",
       "      <td>29.000000</td>\n",
       "      <td>0.000000</td>\n",
       "    </tr>\n",
       "    <tr>\n",
       "      <th>75%</th>\n",
       "      <td>583.750000</td>\n",
       "      <td>6.000000</td>\n",
       "      <td>140.000000</td>\n",
       "      <td>80.000000</td>\n",
       "      <td>32.000000</td>\n",
       "      <td>130.000000</td>\n",
       "      <td>36.500000</td>\n",
       "      <td>0.628500</td>\n",
       "      <td>41.000000</td>\n",
       "      <td>1.000000</td>\n",
       "    </tr>\n",
       "    <tr>\n",
       "      <th>max</th>\n",
       "      <td>767.000000</td>\n",
       "      <td>15.000000</td>\n",
       "      <td>197.000000</td>\n",
       "      <td>114.000000</td>\n",
       "      <td>99.000000</td>\n",
       "      <td>744.000000</td>\n",
       "      <td>67.100000</td>\n",
       "      <td>2.420000</td>\n",
       "      <td>72.000000</td>\n",
       "      <td>1.000000</td>\n",
       "    </tr>\n",
       "  </tbody>\n",
       "</table>\n",
       "</div>"
      ],
      "text/plain": [
       "             p_id  Pregnancies     Glucose  BloodPressure  SkinThickness  \\\n",
       "count  614.000000   614.000000  614.000000     614.000000     614.000000   \n",
       "mean   385.542345     3.809446  120.465798      68.903909      20.456026   \n",
       "std    222.135103     3.375544   31.959619      19.933385      16.063105   \n",
       "min      0.000000     0.000000    0.000000       0.000000       0.000000   \n",
       "25%    194.250000     1.000000   99.000000      62.000000       0.000000   \n",
       "50%    380.500000     3.000000  115.000000      72.000000      23.000000   \n",
       "75%    583.750000     6.000000  140.000000      80.000000      32.000000   \n",
       "max    767.000000    15.000000  197.000000     114.000000      99.000000   \n",
       "\n",
       "          Insulin         BMI  DiabetesPedigreeFunction         Age  \\\n",
       "count  614.000000  614.000000                614.000000  614.000000   \n",
       "mean    81.250814   31.929642                  0.468096   33.265472   \n",
       "std    116.947384    8.136791                  0.329203   11.851427   \n",
       "min      0.000000    0.000000                  0.078000   21.000000   \n",
       "25%      0.000000   27.400000                  0.238000   24.000000   \n",
       "50%     27.000000   32.150000                  0.365500   29.000000   \n",
       "75%    130.000000   36.500000                  0.628500   41.000000   \n",
       "max    744.000000   67.100000                  2.420000   72.000000   \n",
       "\n",
       "          Outcome  \n",
       "count  614.000000  \n",
       "mean     0.342020  \n",
       "std      0.474773  \n",
       "min      0.000000  \n",
       "25%      0.000000  \n",
       "50%      0.000000  \n",
       "75%      1.000000  \n",
       "max      1.000000  "
      ]
     },
     "execution_count": 4,
     "metadata": {},
     "output_type": "execute_result"
    }
   ],
   "source": [
    "data_train.describe()"
   ]
  },
  {
   "cell_type": "markdown",
   "metadata": {},
   "source": [
    "Aan de hand van de .describe() methode zijn alle basisstatistieken van de data getoond. Dit laat ons zien dat er waardes in het DataFrame staan die onlogisch zijn. Dit komt omdat waardes van de variabelen BloodPressure, Glucose, SkinThickness, Insulin en BMI onmogelijk nul kunnen zijn, tenzij de persoon overleden is. Om deze data beter te tonen **doen** we in de onderstaande cellen een deep-dive in de data van deze kolommen om te bepalen wat ermee moet gebeuren.\n",
    "\n",
    "Eerst zal er worden gekeken naar de hoeveelheid nulwaarden in een kolom."
   ]
  },
  {
   "cell_type": "code",
   "execution_count": 5,
   "metadata": {},
   "outputs": [
    {
     "name": "stdout",
     "output_type": "stream",
     "text": [
      "Nulwaarden Glucose: 4\n",
      "Nulwaarden BloodPressure: 31\n",
      "Nulwaarden SkinThickness: 184\n",
      "Nulwaarden Insulin: 300\n",
      "Nulwaarden BMI: 11\n"
     ]
    }
   ],
   "source": [
    "print('Nulwaarden Glucose:', \n",
    "      len(data_train[data_train['Glucose'] == 0]))\n",
    "\n",
    "print('Nulwaarden BloodPressure:', \n",
    "      len(data_train[data_train['BloodPressure'] == 0]))\n",
    "\n",
    "print('Nulwaarden SkinThickness:', \n",
    "      len(data_train[data_train['SkinThickness'] == 0]))\n",
    "\n",
    "print('Nulwaarden Insulin:', \n",
    "      len(data_train[data_train['Insulin'] == 0]))\n",
    "\n",
    "print('Nulwaarden BMI:', \n",
    "      len(data_train[data_train['BMI'] == 0]))"
   ]
  },
  {
   "cell_type": "markdown",
   "metadata": {},
   "source": [
    "Al deze nulwaarden hebben één grote overeenkomst: in de medische wereld is dit nagenoeg onmogelijk. Ondanks dit is het aantal missende waarden in de SkinThickness en de Insulin kolom te hoog, deze zullen daardoor worden verwijderd. Voor de andere drie kolommen worden de nulwaarden omgezet in NaN en vervolgens gevuld met het gemiddelde."
   ]
  },
  {
   "cell_type": "code",
   "execution_count": 6,
   "metadata": {},
   "outputs": [
    {
     "data": {
      "text/html": [
       "<div>\n",
       "<style scoped>\n",
       "    .dataframe tbody tr th:only-of-type {\n",
       "        vertical-align: middle;\n",
       "    }\n",
       "\n",
       "    .dataframe tbody tr th {\n",
       "        vertical-align: top;\n",
       "    }\n",
       "\n",
       "    .dataframe thead th {\n",
       "        text-align: right;\n",
       "    }\n",
       "</style>\n",
       "<table border=\"1\" class=\"dataframe\">\n",
       "  <thead>\n",
       "    <tr style=\"text-align: right;\">\n",
       "      <th></th>\n",
       "      <th>p_id</th>\n",
       "      <th>Pregnancies</th>\n",
       "      <th>Glucose</th>\n",
       "      <th>BloodPressure</th>\n",
       "      <th>BMI</th>\n",
       "      <th>DiabetesPedigreeFunction</th>\n",
       "      <th>Age</th>\n",
       "      <th>Outcome</th>\n",
       "    </tr>\n",
       "  </thead>\n",
       "  <tbody>\n",
       "    <tr>\n",
       "      <th>count</th>\n",
       "      <td>614.000000</td>\n",
       "      <td>614.000000</td>\n",
       "      <td>614.000000</td>\n",
       "      <td>614.000000</td>\n",
       "      <td>614.000000</td>\n",
       "      <td>614.000000</td>\n",
       "      <td>614.000000</td>\n",
       "      <td>614.000000</td>\n",
       "    </tr>\n",
       "    <tr>\n",
       "      <th>mean</th>\n",
       "      <td>386.171289</td>\n",
       "      <td>4.489443</td>\n",
       "      <td>121.255738</td>\n",
       "      <td>72.567753</td>\n",
       "      <td>32.512106</td>\n",
       "      <td>0.468096</td>\n",
       "      <td>33.265472</td>\n",
       "      <td>0.342020</td>\n",
       "    </tr>\n",
       "    <tr>\n",
       "      <th>std</th>\n",
       "      <td>221.587734</td>\n",
       "      <td>2.966422</td>\n",
       "      <td>30.431913</td>\n",
       "      <td>12.019769</td>\n",
       "      <td>6.897764</td>\n",
       "      <td>0.329203</td>\n",
       "      <td>11.851427</td>\n",
       "      <td>0.474773</td>\n",
       "    </tr>\n",
       "    <tr>\n",
       "      <th>min</th>\n",
       "      <td>2.000000</td>\n",
       "      <td>1.000000</td>\n",
       "      <td>56.000000</td>\n",
       "      <td>24.000000</td>\n",
       "      <td>18.200000</td>\n",
       "      <td>0.078000</td>\n",
       "      <td>21.000000</td>\n",
       "      <td>0.000000</td>\n",
       "    </tr>\n",
       "    <tr>\n",
       "      <th>25%</th>\n",
       "      <td>195.250000</td>\n",
       "      <td>2.000000</td>\n",
       "      <td>99.250000</td>\n",
       "      <td>64.000000</td>\n",
       "      <td>27.600000</td>\n",
       "      <td>0.238000</td>\n",
       "      <td>24.000000</td>\n",
       "      <td>0.000000</td>\n",
       "    </tr>\n",
       "    <tr>\n",
       "      <th>50%</th>\n",
       "      <td>381.500000</td>\n",
       "      <td>4.489443</td>\n",
       "      <td>116.000000</td>\n",
       "      <td>72.567753</td>\n",
       "      <td>32.400000</td>\n",
       "      <td>0.365500</td>\n",
       "      <td>29.000000</td>\n",
       "      <td>0.000000</td>\n",
       "    </tr>\n",
       "    <tr>\n",
       "      <th>75%</th>\n",
       "      <td>583.750000</td>\n",
       "      <td>6.000000</td>\n",
       "      <td>140.000000</td>\n",
       "      <td>80.000000</td>\n",
       "      <td>36.500000</td>\n",
       "      <td>0.628500</td>\n",
       "      <td>41.000000</td>\n",
       "      <td>1.000000</td>\n",
       "    </tr>\n",
       "    <tr>\n",
       "      <th>max</th>\n",
       "      <td>767.000000</td>\n",
       "      <td>15.000000</td>\n",
       "      <td>197.000000</td>\n",
       "      <td>114.000000</td>\n",
       "      <td>67.100000</td>\n",
       "      <td>2.420000</td>\n",
       "      <td>72.000000</td>\n",
       "      <td>1.000000</td>\n",
       "    </tr>\n",
       "  </tbody>\n",
       "</table>\n",
       "</div>"
      ],
      "text/plain": [
       "             p_id  Pregnancies     Glucose  BloodPressure         BMI  \\\n",
       "count  614.000000   614.000000  614.000000     614.000000  614.000000   \n",
       "mean   386.171289     4.489443  121.255738      72.567753   32.512106   \n",
       "std    221.587734     2.966422   30.431913      12.019769    6.897764   \n",
       "min      2.000000     1.000000   56.000000      24.000000   18.200000   \n",
       "25%    195.250000     2.000000   99.250000      64.000000   27.600000   \n",
       "50%    381.500000     4.489443  116.000000      72.567753   32.400000   \n",
       "75%    583.750000     6.000000  140.000000      80.000000   36.500000   \n",
       "max    767.000000    15.000000  197.000000     114.000000   67.100000   \n",
       "\n",
       "       DiabetesPedigreeFunction         Age     Outcome  \n",
       "count                614.000000  614.000000  614.000000  \n",
       "mean                   0.468096   33.265472    0.342020  \n",
       "std                    0.329203   11.851427    0.474773  \n",
       "min                    0.078000   21.000000    0.000000  \n",
       "25%                    0.238000   24.000000    0.000000  \n",
       "50%                    0.365500   29.000000    0.000000  \n",
       "75%                    0.628500   41.000000    1.000000  \n",
       "max                    2.420000   72.000000    1.000000  "
      ]
     },
     "execution_count": 6,
     "metadata": {},
     "output_type": "execute_result"
    }
   ],
   "source": [
    "# Copy maken van dataset\n",
    "df_train = data_train.copy()\n",
    "\n",
    "# Het vervangen van missende waarden\n",
    "X_kolommen = data_train.columns[:-1]\n",
    "df_train[X_kolommen] = df_train[X_kolommen].replace(0, np.nan)\n",
    "\n",
    "# NaN-waarden invullen met gemiddelde\n",
    "gem = df_train.mean()\n",
    "df_train.fillna(gem, inplace=True)\n",
    "\n",
    "# Weghalen van kolommen wegens te hoog aantal NaN-waarden\n",
    "df_train.drop('Insulin', axis=1, inplace=True)\n",
    "df_train.drop('SkinThickness', axis=1, inplace=True)\n",
    "\n",
    "df_train.describe()"
   ]
  },
  {
   "cell_type": "markdown",
   "metadata": {},
   "source": [
    "#### **Relaties tussen kolommen**\n",
    "\n",
    "Bij het maken van een Machine Learning model is het belangrijk om te begrijpen hoe alle variabelen te maken hebben met elkaar, welke variabelen een impact hebben op de uitkomst en of er sprake is van multicollineariteit. Om te beginnen worden de correlaties tussen alle kolommen in het DataFrame df_train berekent."
   ]
  },
  {
   "cell_type": "code",
   "execution_count": 7,
   "metadata": {},
   "outputs": [
    {
     "data": {
      "text/html": [
       "<div>\n",
       "<style scoped>\n",
       "    .dataframe tbody tr th:only-of-type {\n",
       "        vertical-align: middle;\n",
       "    }\n",
       "\n",
       "    .dataframe tbody tr th {\n",
       "        vertical-align: top;\n",
       "    }\n",
       "\n",
       "    .dataframe thead th {\n",
       "        text-align: right;\n",
       "    }\n",
       "</style>\n",
       "<table border=\"1\" class=\"dataframe\">\n",
       "  <thead>\n",
       "    <tr style=\"text-align: right;\">\n",
       "      <th></th>\n",
       "      <th>p_id</th>\n",
       "      <th>Pregnancies</th>\n",
       "      <th>Glucose</th>\n",
       "      <th>BloodPressure</th>\n",
       "      <th>BMI</th>\n",
       "      <th>DiabetesPedigreeFunction</th>\n",
       "      <th>Age</th>\n",
       "      <th>Outcome</th>\n",
       "    </tr>\n",
       "  </thead>\n",
       "  <tbody>\n",
       "    <tr>\n",
       "      <th>p_id</th>\n",
       "      <td>1.000000</td>\n",
       "      <td>-0.064982</td>\n",
       "      <td>-0.026736</td>\n",
       "      <td>0.030091</td>\n",
       "      <td>-0.044400</td>\n",
       "      <td>-0.025714</td>\n",
       "      <td>-0.009595</td>\n",
       "      <td>-0.082149</td>\n",
       "    </tr>\n",
       "    <tr>\n",
       "      <th>Pregnancies</th>\n",
       "      <td>-0.064982</td>\n",
       "      <td>1.000000</td>\n",
       "      <td>0.137728</td>\n",
       "      <td>0.278572</td>\n",
       "      <td>0.104688</td>\n",
       "      <td>-0.012057</td>\n",
       "      <td>0.488739</td>\n",
       "      <td>0.244285</td>\n",
       "    </tr>\n",
       "    <tr>\n",
       "      <th>Glucose</th>\n",
       "      <td>-0.026736</td>\n",
       "      <td>0.137728</td>\n",
       "      <td>1.000000</td>\n",
       "      <td>0.248581</td>\n",
       "      <td>0.224476</td>\n",
       "      <td>0.157264</td>\n",
       "      <td>0.250404</td>\n",
       "      <td>0.494147</td>\n",
       "    </tr>\n",
       "    <tr>\n",
       "      <th>BloodPressure</th>\n",
       "      <td>0.030091</td>\n",
       "      <td>0.278572</td>\n",
       "      <td>0.248581</td>\n",
       "      <td>1.000000</td>\n",
       "      <td>0.288150</td>\n",
       "      <td>0.007743</td>\n",
       "      <td>0.325883</td>\n",
       "      <td>0.186998</td>\n",
       "    </tr>\n",
       "    <tr>\n",
       "      <th>BMI</th>\n",
       "      <td>-0.044400</td>\n",
       "      <td>0.104688</td>\n",
       "      <td>0.224476</td>\n",
       "      <td>0.288150</td>\n",
       "      <td>1.000000</td>\n",
       "      <td>0.138444</td>\n",
       "      <td>0.020889</td>\n",
       "      <td>0.292495</td>\n",
       "    </tr>\n",
       "    <tr>\n",
       "      <th>DiabetesPedigreeFunction</th>\n",
       "      <td>-0.025714</td>\n",
       "      <td>-0.012057</td>\n",
       "      <td>0.157264</td>\n",
       "      <td>0.007743</td>\n",
       "      <td>0.138444</td>\n",
       "      <td>1.000000</td>\n",
       "      <td>0.040877</td>\n",
       "      <td>0.182245</td>\n",
       "    </tr>\n",
       "    <tr>\n",
       "      <th>Age</th>\n",
       "      <td>-0.009595</td>\n",
       "      <td>0.488739</td>\n",
       "      <td>0.250404</td>\n",
       "      <td>0.325883</td>\n",
       "      <td>0.020889</td>\n",
       "      <td>0.040877</td>\n",
       "      <td>1.000000</td>\n",
       "      <td>0.233461</td>\n",
       "    </tr>\n",
       "    <tr>\n",
       "      <th>Outcome</th>\n",
       "      <td>-0.082149</td>\n",
       "      <td>0.244285</td>\n",
       "      <td>0.494147</td>\n",
       "      <td>0.186998</td>\n",
       "      <td>0.292495</td>\n",
       "      <td>0.182245</td>\n",
       "      <td>0.233461</td>\n",
       "      <td>1.000000</td>\n",
       "    </tr>\n",
       "  </tbody>\n",
       "</table>\n",
       "</div>"
      ],
      "text/plain": [
       "                              p_id  Pregnancies   Glucose  BloodPressure  \\\n",
       "p_id                      1.000000    -0.064982 -0.026736       0.030091   \n",
       "Pregnancies              -0.064982     1.000000  0.137728       0.278572   \n",
       "Glucose                  -0.026736     0.137728  1.000000       0.248581   \n",
       "BloodPressure             0.030091     0.278572  0.248581       1.000000   \n",
       "BMI                      -0.044400     0.104688  0.224476       0.288150   \n",
       "DiabetesPedigreeFunction -0.025714    -0.012057  0.157264       0.007743   \n",
       "Age                      -0.009595     0.488739  0.250404       0.325883   \n",
       "Outcome                  -0.082149     0.244285  0.494147       0.186998   \n",
       "\n",
       "                               BMI  DiabetesPedigreeFunction       Age  \\\n",
       "p_id                     -0.044400                 -0.025714 -0.009595   \n",
       "Pregnancies               0.104688                 -0.012057  0.488739   \n",
       "Glucose                   0.224476                  0.157264  0.250404   \n",
       "BloodPressure             0.288150                  0.007743  0.325883   \n",
       "BMI                       1.000000                  0.138444  0.020889   \n",
       "DiabetesPedigreeFunction  0.138444                  1.000000  0.040877   \n",
       "Age                       0.020889                  0.040877  1.000000   \n",
       "Outcome                   0.292495                  0.182245  0.233461   \n",
       "\n",
       "                           Outcome  \n",
       "p_id                     -0.082149  \n",
       "Pregnancies               0.244285  \n",
       "Glucose                   0.494147  \n",
       "BloodPressure             0.186998  \n",
       "BMI                       0.292495  \n",
       "DiabetesPedigreeFunction  0.182245  \n",
       "Age                       0.233461  \n",
       "Outcome                   1.000000  "
      ]
     },
     "metadata": {},
     "output_type": "display_data"
    }
   ],
   "source": [
    "correlaties = df_train.corr()\n",
    "display(correlaties)"
   ]
  },
  {
   "cell_type": "markdown",
   "metadata": {},
   "source": [
    "Voordat we de relaties verder gaan visualiseren, zal de kolom p_id worden verwijderd uit df_train. De correlatie is erg laag en de data bestaat om individuen te identificeren, het heeft dus geen invloed op de voorspellingen en zal niet langer nodig zijn."
   ]
  },
  {
   "cell_type": "code",
   "execution_count": 8,
   "metadata": {},
   "outputs": [],
   "source": [
    "df_train.drop('p_id', axis = 1, inplace=True)"
   ]
  },
  {
   "cell_type": "markdown",
   "metadata": {},
   "source": [
    "Om de relaties tussen de kolommen beter duidelijk te maken word er hieronder gebruik gemaakt van verschillende visualisaties. Voor deze visualisaties zijn verschillende functies gemaakt."
   ]
  },
  {
   "cell_type": "code",
   "execution_count": 9,
   "metadata": {},
   "outputs": [],
   "source": [
    "def boxplots(df, kolom):\n",
    "    \"\"\"\n",
    "    Maakt een aantal box plots gelijk aan het aantal kolommen in de Dataframe. De box zijn tegen één specifieke kolom opgezet, om de \n",
    "    verdeling t.o.v. die kolom te tonen.\n",
    "    \n",
    "    Parameters:\n",
    "    ----------------\n",
    "    df : Pandas DataFrame\n",
    "        Een pandas DataFrame met kolommen waarvan je de verdeling wilt onderzoeken.\n",
    "    \n",
    "    kolom : str\n",
    "        De naam van de kolom waarbij de verdeling bekeken word, ten opzichte van de andere kolommen.\n",
    "        \n",
    "    Returns:\n",
    "    ---------------\n",
    "    None :\n",
    "        In plaats van iets te returnen laat de functie meerdere boxplots zien.\n",
    "    \"\"\"    \n",
    "    #For-loop om elke kolom een eigen boxplot te geven\n",
    "    for col in df.columns:\n",
    "        #if-statement om te voorkomen dat de kolom-parameter ook een boxplot krijgt\n",
    "        if col != kolom:\n",
    "            #Zetten van de grootte van de plot\n",
    "            plt.subplots(figsize=(15, 5))\n",
    "            \n",
    "            #Maken en benoemen van de assen van de boxplots\n",
    "            sns.boxplot(x=kolom, y=col,\n",
    "                        data=df, color='pink')\n",
    "            plt.xlabel(kolom)\n",
    "            plt.ylabel(col)\n",
    "            plt.title('{} vs. {}'.format(kolom, col))\n",
    "            plt.show()\n",
    "\n",
    "def barplot(df, kolom):\n",
    "    \"\"\"\n",
    "    Maakt een aantal bar plots gelijk aan het aantal kolommen in de Dataframe. De bar is tegen één specifieke kolom opgezet, om de \n",
    "    verdeling t.o.v. die kolom te tonen.\n",
    "    \n",
    "    Parameters:\n",
    "    ----------------\n",
    "    df : Pandas DataFrame\n",
    "        Een pandas DataFrame met kolommen waarvan je de verdeling wilt onderzoeken.\n",
    "    \n",
    "    kolom : str\n",
    "        De naam van de kolom waarbij de verdeling bekeken word, ten opzichte van de andere kolommen.\n",
    "        \n",
    "    Returns:\n",
    "    ---------------\n",
    "    None :\n",
    "        In plaats van iets te returnen laat de functie meerdere barplots zien.\n",
    "    \"\"\"    \n",
    "    #For-loop om elke kolom een eigen barplot te geven\n",
    "    for col in df.columns:\n",
    "        #if-statement om te voorkomen dat de kolom-parameter ook een barplot krijgt\n",
    "        if col != kolom:\n",
    "            #Zetten van de grootte van de plot\n",
    "            plt.subplots(figsize=(15, 5))\n",
    "            \n",
    "            #Maken en benoemen van de assen van de barplot\n",
    "            sns.barplot(x=kolom, y=col, data=df, color= 'skyblue')\n",
    "            plt.xlabel(kolom)\n",
    "            plt.ylabel(col)\n",
    "            plt.title('{} vs. {}'.format(kolom, col))\n",
    "            plt.show()\n",
    "\n",
    "def histplot(df, kolom):\n",
    "    \"\"\"\n",
    "    Maakt een aantal bar plots gelijk aan het aantal kolommen in de Dataframe. De bar is tegen één specifieke kolom opgezet, om de \n",
    "    verdeling t.o.v. die kolom te tonen.\n",
    "    \n",
    "    Parameters:\n",
    "    ----------------\n",
    "    df : Pandas DataFrame\n",
    "        Een pandas DataFrame met kolommen waarvan je de verdeling wilt onderzoeken.\n",
    "    \n",
    "    kolom : str\n",
    "        De naam van de kolom waarbij de verdeling bekeken word, ten opzichte van de andere kolommen.\n",
    "        \n",
    "    Returns:\n",
    "    ---------------\n",
    "    None :\n",
    "        In plaats van iets te returnen laat de functie meerdere barplots zien.\n",
    "    \"\"\"    \n",
    "    #For-loop om elke kolom een eigen barplot te geven\n",
    "    for col in df.columns:\n",
    "        #if-statement om te voorkomen dat de kolom-parameter ook een barplot krijgt\n",
    "        if col != kolom:\n",
    "            #Zetten van de grootte van de plot\n",
    "            plt.subplots(figsize=(15, 5))\n",
    "            \n",
    "            #Maken en benoemen van de assen van de barplot\n",
    "            sns.histplot(data=df, x=col, hue=kolom, kde=True)\n",
    "            plt.xlabel(col)\n",
    "            plt.ylabel('Aantal Waarnemingen')\n",
    "            plt.title('Verdeling van {}'.format(col))\n",
    "            plt.show()"
   ]
  },
  {
   "cell_type": "markdown",
   "metadata": {},
   "source": [
    "Nu alle functies voor de grafieken zijn aangemaakt kunnen de visualisaties duidelijk achter elkaar worden getoond en besproken."
   ]
  },
  {
   "cell_type": "code",
   "execution_count": 10,
   "metadata": {},
   "outputs": [
    {
     "data": {
      "image/png": "[encoded data removed]",
      "text/plain": [
       "<Figure size 1080x360 with 1 Axes>"
      ]
     },
     "metadata": {
      "needs_background": "light"
     },
     "output_type": "display_data"
    },
    {
     "data": {
      "image/png": "[encoded data removed]",
      "text/plain": [
       "<Figure size 1080x360 with 1 Axes>"
      ]
     },
     "metadata": {
      "needs_background": "light"
     },
     "output_type": "display_data"
    },
    {
     "data": {
      "image/png": "[encoded data removed]",
      "text/plain": [
       "<Figure size 1080x360 with 1 Axes>"
      ]
     },
     "metadata": {
      "needs_background": "light"
     },
     "output_type": "display_data"
    },
    {
     "data": {
      "image/png": "[encoded data removed]",
      "text/plain": [
       "<Figure size 1080x360 with 1 Axes>"
      ]
     },
     "metadata": {
      "needs_background": "light"
     },
     "output_type": "display_data"
    },
    {
     "data": {
      "image/png": "[encoded data removed]",
      "text/plain": [
       "<Figure size 1080x360 with 1 Axes>"
      ]
     },
     "metadata": {
      "needs_background": "light"
     },
     "output_type": "display_data"
    },
    {
     "data": {
      "image/png": "[encoded data removed]",
      "text/plain": [
       "<Figure size 1080x360 with 1 Axes>"
      ]
     },
     "metadata": {
      "needs_background": "light"
     },
     "output_type": "display_data"
    }
   ],
   "source": [
    "boxplots(df_train, 'Outcome')"
   ]
  },
  {
   "cell_type": "code",
   "execution_count": 11,
   "metadata": {},
   "outputs": [
    {
     "data": {
      "image/png": "[encoded data removed]",
      "text/plain": [
       "<Figure size 1080x360 with 1 Axes>"
      ]
     },
     "metadata": {
      "needs_background": "light"
     },
     "output_type": "display_data"
    },
    {
     "data": {
      "image/png": "[encoded data removed]",
      "text/plain": [
       "<Figure size 1080x360 with 1 Axes>"
      ]
     },
     "metadata": {
      "needs_background": "light"
     },
     "output_type": "display_data"
    },
    {
     "data": {
      "image/png": "[encoded data removed]",
      "text/plain": [
       "<Figure size 1080x360 with 1 Axes>"
      ]
     },
     "metadata": {
      "needs_background": "light"
     },
     "output_type": "display_data"
    },
    {
     "data": {
      "image/png": "[encoded data removed]",
      "text/plain": [
       "<Figure size 1080x360 with 1 Axes>"
      ]
     },
     "metadata": {
      "needs_background": "light"
     },
     "output_type": "display_data"
    },
    {
     "data": {
      "image/png": "[encoded data removed]",
      "text/plain": [
       "<Figure size 1080x360 with 1 Axes>"
      ]
     },
     "metadata": {
      "needs_background": "light"
     },
     "output_type": "display_data"
    },
    {
     "data": {
      "image/png": "[encoded data removed]",
      "text/plain": [
       "<Figure size 1080x360 with 1 Axes>"
      ]
     },
     "metadata": {
      "needs_background": "light"
     },
     "output_type": "display_data"
    }
   ],
   "source": [
    "barplot(df_train, 'Outcome')"
   ]
  },
  {
   "cell_type": "code",
   "execution_count": 12,
   "metadata": {},
   "outputs": [
    {
     "data": {
      "image/png": "[encoded data removed]",
      "text/plain": [
       "<Figure size 1080x360 with 1 Axes>"
      ]
     },
     "metadata": {
      "needs_background": "light"
     },
     "output_type": "display_data"
    },
    {
     "data": {
      "image/png": "[encoded data removed]",
      "text/plain": [
       "<Figure size 1080x360 with 1 Axes>"
      ]
     },
     "metadata": {
      "needs_background": "light"
     },
     "output_type": "display_data"
    },
    {
     "data": {
      "image/png": "[encoded data removed]",
      "text/plain": [
       "<Figure size 1080x360 with 1 Axes>"
      ]
     },
     "metadata": {
      "needs_background": "light"
     },
     "output_type": "display_data"
    },
    {
     "data": {
      "image/png": "[encoded data removed]",
      "text/plain": [
       "<Figure size 1080x360 with 1 Axes>"
      ]
     },
     "metadata": {
      "needs_background": "light"
     },
     "output_type": "display_data"
    },
    {
     "data": {
      "image/png": "[encoded data removed]",
      "text/plain": [
       "<Figure size 1080x360 with 1 Axes>"
      ]
     },
     "metadata": {
      "needs_background": "light"
     },
     "output_type": "display_data"
    },
    {
     "data": {
      "image/png": "[encoded data removed]",
      "text/plain": [
       "<Figure size 1080x360 with 1 Axes>"
      ]
     },
     "metadata": {
      "needs_background": "light"
     },
     "output_type": "display_data"
    }
   ],
   "source": [
    "histplot(df_train, 'Outcome')"
   ]
  },
  {
   "cell_type": "markdown",
   "metadata": {},
   "source": [
    "**Bij de visualisaties van de boxplot en barplot kun je zien dat mensen met diabetes (Outcome = 1) vaker zwanger zijn, een hogere glucose waarde hebben, hogere bloeddruk, hoger bmi, hoger diabetes pedigree function (?) hebben, en vaak ook ouder zijn\n",
    "Bij de visualisatie van de Histplot zie je hetzelfde maar dan op een andere manier. Je ziet dat op het begin de stavan voornamelijk blauw (Outcome = 0) zijn en naarmate de waardes hoger worden er meer oranje (Outcome = 1) is te zien. \n",
    "De conclussie die wij hier uit trekken is dat mensen die diabetes hebben vaak hogere waardes hebben dan mensen die geen diabetes hebben.**"
   ]
  },
  {
   "cell_type": "markdown",
   "metadata": {},
   "source": [
    "#### **Standaardisatie**\n",
    "\n",
    "In een data science project, is de data standaardiseren een cruciaal onderdeel van het pre-processing van de data. In dit proces worden de variabelen omgezet in vergelijkbare schalen, zodat ze op dezelfde manier kunnen worden geïnterpreteerd en vergeleken. Als dit niet gebeurt, dan kan het model niet de juiste conclusies trekken.  \n",
    "\n",
    "Standaardisatie heeft als hoofddoel om ervoor te zorgen dat de variabelen in een dataset vergelijkbaar zijn en op een consistente manier kunnen worden geïnterpreteerd. Hierdoor zijn analyses, modellering en visualisaties makkelijker, en het helpt bij het elimineren van vertekeningen veroorzaakt door verschillen in schaal of eenheden tussen variabelen. \n",
    "\n",
    "Veel machine learning algoritmen zijn gevoelig voor de schaal tussen variabelen in een dataset, door de data te standaardiseren kunnen de prestaties van een machine learning model worden verbeterd.  Als voorbeeld, een dataset die de variabelen “inkomen” en “leeftijd” bevat zal de variabele “inkomen” belangrijker beschouwen dan leeftijd omdat de schaal zoveel hoger is. Bij veel machine learning algoritmen is standaardiseren nodig, maar niet alle. Een decision-tree model is niet gevoelig voor hoge verschillen in de variabelen bijvoorbeeld. \n",
    "\n",
    "#### *Data standaardisatie in onze dataset* \n",
    "\n",
    "In onze dataset zijn de waardes redelijk vergelijkbaar, behalve de variabelen insuline en glucose. Insuline heeft een maximum van 744, en glucose 197. Terwijl de andere variabelen tussen de 10-100 liggen. Toevallig bevat Insuline zoveel missende waardes dat we ervoor hebben gekozen deze te verwijderen. Glucose aan de andere kant moet wel gestandaardiseerd worden wanneer we de machine learning modellen gaan toepassen."
   ]
  },
  {
   "cell_type": "code",
   "execution_count": 13,
   "metadata": {},
   "outputs": [],
   "source": [
    "from sklearn.preprocessing import MinMaxScaler, StandardScaler\n",
    "\n",
    "def feature_scaling(data, method='min-max', columns=None):\n",
    "\n",
    "    if method not in ['min-max', 'standardization']:\n",
    "        raise ValueError(\"Unsupported scaling method. Choose 'min-max' or 'standardization'.\")\n",
    "\n",
    "    if columns is None:\n",
    "        numerical_columns = data.select_dtypes(include=['number']).columns\n",
    "    else:\n",
    "        numerical_columns = columns\n",
    "\n",
    "    if method == 'min-max':\n",
    "        scaler = MinMaxScaler()\n",
    "    else:\n",
    "        scaler = StandardScaler()\n",
    "\n",
    "    scaled_data = data.copy()\n",
    "    scaled_data[numerical_columns] = scaler.fit_transform(data[numerical_columns])\n",
    "\n",
    "    return scaled_data"
   ]
  },
  {
   "cell_type": "code",
   "execution_count": 14,
   "metadata": {},
   "outputs": [
    {
     "data": {
      "text/html": [
       "<div>\n",
       "<style scoped>\n",
       "    .dataframe tbody tr th:only-of-type {\n",
       "        vertical-align: middle;\n",
       "    }\n",
       "\n",
       "    .dataframe tbody tr th {\n",
       "        vertical-align: top;\n",
       "    }\n",
       "\n",
       "    .dataframe thead th {\n",
       "        text-align: right;\n",
       "    }\n",
       "</style>\n",
       "<table border=\"1\" class=\"dataframe\">\n",
       "  <thead>\n",
       "    <tr style=\"text-align: right;\">\n",
       "      <th></th>\n",
       "      <th>Pregnancies</th>\n",
       "      <th>Glucose</th>\n",
       "      <th>BloodPressure</th>\n",
       "      <th>BMI</th>\n",
       "      <th>DiabetesPedigreeFunction</th>\n",
       "      <th>Age</th>\n",
       "      <th>Outcome</th>\n",
       "    </tr>\n",
       "  </thead>\n",
       "  <tbody>\n",
       "    <tr>\n",
       "      <th>count</th>\n",
       "      <td>614.000000</td>\n",
       "      <td>614.000000</td>\n",
       "      <td>614.000000</td>\n",
       "      <td>614.000000</td>\n",
       "      <td>614.000000</td>\n",
       "      <td>614.000000</td>\n",
       "      <td>614.000000</td>\n",
       "    </tr>\n",
       "    <tr>\n",
       "      <th>mean</th>\n",
       "      <td>0.249246</td>\n",
       "      <td>0.462807</td>\n",
       "      <td>0.539642</td>\n",
       "      <td>0.292681</td>\n",
       "      <td>0.166565</td>\n",
       "      <td>0.240499</td>\n",
       "      <td>0.342020</td>\n",
       "    </tr>\n",
       "    <tr>\n",
       "      <th>std</th>\n",
       "      <td>0.211887</td>\n",
       "      <td>0.215829</td>\n",
       "      <td>0.133553</td>\n",
       "      <td>0.141059</td>\n",
       "      <td>0.140565</td>\n",
       "      <td>0.232381</td>\n",
       "      <td>0.474773</td>\n",
       "    </tr>\n",
       "    <tr>\n",
       "      <th>min</th>\n",
       "      <td>0.000000</td>\n",
       "      <td>0.000000</td>\n",
       "      <td>0.000000</td>\n",
       "      <td>0.000000</td>\n",
       "      <td>0.000000</td>\n",
       "      <td>0.000000</td>\n",
       "      <td>0.000000</td>\n",
       "    </tr>\n",
       "    <tr>\n",
       "      <th>25%</th>\n",
       "      <td>0.071429</td>\n",
       "      <td>0.306738</td>\n",
       "      <td>0.444444</td>\n",
       "      <td>0.192229</td>\n",
       "      <td>0.068318</td>\n",
       "      <td>0.058824</td>\n",
       "      <td>0.000000</td>\n",
       "    </tr>\n",
       "    <tr>\n",
       "      <th>50%</th>\n",
       "      <td>0.249246</td>\n",
       "      <td>0.425532</td>\n",
       "      <td>0.539642</td>\n",
       "      <td>0.290389</td>\n",
       "      <td>0.122758</td>\n",
       "      <td>0.156863</td>\n",
       "      <td>0.000000</td>\n",
       "    </tr>\n",
       "    <tr>\n",
       "      <th>75%</th>\n",
       "      <td>0.357143</td>\n",
       "      <td>0.595745</td>\n",
       "      <td>0.622222</td>\n",
       "      <td>0.374233</td>\n",
       "      <td>0.235056</td>\n",
       "      <td>0.392157</td>\n",
       "      <td>1.000000</td>\n",
       "    </tr>\n",
       "    <tr>\n",
       "      <th>max</th>\n",
       "      <td>1.000000</td>\n",
       "      <td>1.000000</td>\n",
       "      <td>1.000000</td>\n",
       "      <td>1.000000</td>\n",
       "      <td>1.000000</td>\n",
       "      <td>1.000000</td>\n",
       "      <td>1.000000</td>\n",
       "    </tr>\n",
       "  </tbody>\n",
       "</table>\n",
       "</div>"
      ],
      "text/plain": [
       "       Pregnancies     Glucose  BloodPressure         BMI  \\\n",
       "count   614.000000  614.000000     614.000000  614.000000   \n",
       "mean      0.249246    0.462807       0.539642    0.292681   \n",
       "std       0.211887    0.215829       0.133553    0.141059   \n",
       "min       0.000000    0.000000       0.000000    0.000000   \n",
       "25%       0.071429    0.306738       0.444444    0.192229   \n",
       "50%       0.249246    0.425532       0.539642    0.290389   \n",
       "75%       0.357143    0.595745       0.622222    0.374233   \n",
       "max       1.000000    1.000000       1.000000    1.000000   \n",
       "\n",
       "       DiabetesPedigreeFunction         Age     Outcome  \n",
       "count                614.000000  614.000000  614.000000  \n",
       "mean                   0.166565    0.240499    0.342020  \n",
       "std                    0.140565    0.232381    0.474773  \n",
       "min                    0.000000    0.000000    0.000000  \n",
       "25%                    0.068318    0.058824    0.000000  \n",
       "50%                    0.122758    0.156863    0.000000  \n",
       "75%                    0.235056    0.392157    1.000000  \n",
       "max                    1.000000    1.000000    1.000000  "
      ]
     },
     "execution_count": 14,
     "metadata": {},
     "output_type": "execute_result"
    }
   ],
   "source": [
    "train_scaled = feature_scaling(df_train)\n",
    "train_scaled.describe()"
   ]
  },
  {
   "cell_type": "markdown",
   "metadata": {},
   "source": [
    "## ***Machine Learning en Metrics***\n",
    "\n",
    "#### *De vorm van Machine Learning*\n",
    "Bij deze opdracht is er sprake van een classificatie. De target variabele, 'Outcome', heeft twee mogelijke waarden, dit zijn 0 of 1. De waarde 0 geeft aan dat het individu waarvan de data afkomstig is geen diabetes heeft, bij een waarde van 1 zou het individu wel diabetes hebben.\n",
    "\n",
    "#### *De metrics van classificatie*\n",
    "Bij een classificatie worden 4 verschillende metrics gebruikt: accuracy, precision, recall en f1-score. De accuracy is redelijk vanzelfsprekend, deze metric houdt het percentage waarden dat correct is voorspeld in. De andere drie metrics worden hieronder uitgelegd, met behulp van een confusion matrix."
   ]
  },
  {
   "cell_type": "code",
   "execution_count": 15,
   "metadata": {},
   "outputs": [],
   "source": [
    "from sklearn.model_selection import train_test_split\n",
    "from sklearn.linear_model import LogisticRegression\n",
    "from sklearn.metrics import classification_report\n",
    "from sklearn.metrics import confusion_matrix, ConfusionMatrixDisplay\n",
    "\n",
    "class Classificatie:\n",
    "    \"\"\" \n",
    "    Een class die gebruikt wordt om een voorspellend model te maken. \n",
    "    \n",
    "    Atributes:\n",
    "    ------------------\n",
    "    df : DataFrame\n",
    "        Het dataframe waar het model op gebruikt wordt.\n",
    "        \n",
    "    target : str\n",
    "        Naam van de kolom die voorspelt wordt.\n",
    "        \n",
    "    Methods:\n",
    "    ----------------\n",
    "    \n",
    "    model_logreg(self, c_value = 1.0, penalty = 'l2')\n",
    "        Een method die het classification report returned. Dit rapport wordt gemaakt door de\n",
    "        classification_report method van SKLearn en bevat o.a. de Precision, Recall en Accuracy.\n",
    "    \"\"\"\n",
    "    \n",
    "    def __init__(self, df, target):\n",
    "        \"\"\"\n",
    "        De constructor van de class. Deze maakt X en y aan om deze vervolgens\n",
    "        te splitten in een train en test set voor het modelleren.\n",
    "        \n",
    "        Parameters:\n",
    "        -------------------\n",
    "        df : DataFrame\n",
    "            Het dataframe waar het model op gebruikt wordt.\n",
    "        \n",
    "        target : str\n",
    "            Naam van de kolom die voorspelt wordt.\n",
    "        \"\"\"\n",
    "        \n",
    "        self.X = df.drop(target, axis = 1)\n",
    "        self.y = df[target]\n",
    "        self.X_train, self.X_test, self.y_train, self.y_test = train_test_split(self.X, self.y, test_size=0.3, random_state = 42)\n",
    "    \n",
    "    def model_logreg(self, c_value = 1.0, penalty = 'l2', rapport = True):\n",
    "        \"\"\"\n",
    "        Een method die het classification report returned. Dit rapport wordt gemaakt door de\n",
    "        classification_report method van SKLearn en bevat o.a. de Precision, Recall en Accuracy.\n",
    "        \n",
    "        Parameters:\n",
    "        -------------------\n",
    "        c_value: float, default = 1.0\n",
    "            Inverse van regularisatiekracht; moet een positieve floats zijn. Net als bij ondersteunende vectormachines, \n",
    "            specificeren kleinere waarden een sterkere regularisatie.\n",
    "    \n",
    "        penalty: str, default ='l2'\n",
    "            Bepaald of er een penalty gebruikt wordt en welke er gekozen wordt.\n",
    "\n",
    "        rapport: bool, default = True\n",
    "            Met rapport geef je aan of je het classificatie rapport\n",
    "            te zien wilt krijgen\n",
    "            \n",
    "        Returns:\n",
    "        ------------------\n",
    "        print : str\n",
    "            Het rapport met daarin de waardes over hoe goed de voorspelling in elkaar zit.\n",
    "        \n",
    "        \"\"\"\n",
    "        \n",
    "        #model aanmaken en fitten\n",
    "        self.logreg = LogisticRegression(penalty = penalty, solver = 'liblinear', C = c_value, random_state = 42, max_iter = 500)\n",
    "        self.logreg.fit(self.X_train, self.y_train)\n",
    "        \n",
    "        #berekenen y_hat en tonen classification rapport\n",
    "        self.y_hat = self.logreg.predict(self.X_test)\n",
    "        \n",
    "        # optionele classification report\n",
    "        if rapport is True:\n",
    "            self.report = classification_report(self.y_test, self.y_hat)\n",
    "            return print('Rapport:', self.report, sep='\\n')\n",
    "        else:\n",
    "            return None\n",
    "        \n",
    "    def confusion_matrix(self):\n",
    "        \"\"\"\n",
    "        Een functie die een confusionmatrix opsteld\n",
    "        \"\"\"\n",
    "\n",
    "        # maken van de confusion matrix\n",
    "        cm = confusion_matrix(self.y_test, self.y_hat)\n",
    "        cmd = ConfusionMatrixDisplay(cm, display_labels=['No diabetes','Diabetes'])\n",
    "        cmd.plot()\n",
    "        plt.show()\n",
    "\n",
    "        # Aangeven van de vakken voor berekening metrics\n",
    "        TP = cm[1,1]\n",
    "        TN = cm[0,0]\n",
    "        FP = cm[0,1]\n",
    "        FN = cm[1,0]\n",
    "\n",
    "        # Berekenen van de metrics\n",
    "        precision = TP / ( TP + FP)\n",
    "        recall = TP / (TP + FN)\n",
    "        f1 = 2 * precision * recall / (precision + recall)\n",
    "        \n",
    "        print(f\"Precision: {precision}\\n\"\\\n",
    "              f\"Recall: {recall}\\n\"\\\n",
    "              f\"F1_score: {f1}\")"
   ]
  },
  {
   "cell_type": "code",
   "execution_count": 16,
   "metadata": {},
   "outputs": [
    {
     "data": {
      "image/png": "[encoded data removed]",
      "text/plain": [
       "<Figure size 432x288 with 2 Axes>"
      ]
     },
     "metadata": {
      "needs_background": "light"
     },
     "output_type": "display_data"
    },
    {
     "name": "stdout",
     "output_type": "stream",
     "text": [
      "Precision: 0.74\n",
      "Recall: 0.5362318840579711\n",
      "F1_score: 0.6218487394957984\n"
     ]
    }
   ],
   "source": [
    "model = Classificatie(train_scaled, 'Outcome')\n",
    "model.model_logreg(rapport=False)\n",
    "model.confusion_matrix()"
   ]
  },
  {
   "cell_type": "markdown",
   "metadata": {},
   "source": [
    "Zoals er te zien is in de Confusion Matrix, zijn er vier verschillende vlakken. Aan de hand van deze vier vlakken worden de metrics precision, recall en f1 berekend. De vier vlakken kunnen wisselen van locatie aan de hand van de context, ondanks het wisselen van locatie blijven de 4 vlakken wel met dezelfde namen. Deze namen zijn: \n",
    "- True Positive (Uitkomsten tonen en zijn gewild)\n",
    "- False Positive (Uitkomsten tonen zich als gewild, maar in de werkelijkheid zijn ze ongewild)\n",
    "- True Negative (Uitkomsten tonen en zijn ongewild)\n",
    "- False Negative (Uitkomsten tonen zich als ongewild, maar zijn in werkelijkheid gewild)\n",
    "\n",
    "De precision metric is de bepaling van het deel positieve voorspellingen dat juist is voorspeld. Een hoge precision toont een laag aantal foutief positieve voorspellingen. De berekening ziet er als volgt uit: $\\frac{TP}{(TP + FP)}$\n",
    "\n",
    "De recall metric is de bepaling van het deel daadwerkelijk positieve uitkomsten dat juist is voorspeld. Een hoge recall toont aan dat het model weinig positieve gevallen over het hoofd ziet. De berekening ziet er als volgt uit: $\\frac{TP}{(TP + FN)}$\n",
    "\n",
    "De F1 score is een bepaling die zowel de precision als de recall in waarde neemt. Hierdoor geeft een hoge f1 score weer dat er op beide metrics goed is gescoord. De f1 score wordt bepaald door de volgende berekening: $ 2 * \\frac{(Precision * Recall)}{(Precision + Recall)}$"
   ]
  },
  {
   "cell_type": "markdown",
   "metadata": {},
   "source": [
    "#### *Welke metric?*\n",
    "\n",
    "In ons geval willen we voorspellen of iemand diabetes heeft. Omdat diabetes vrij veel impact op de gezondheid van een persoon heeft, beredeneren wij dat het belangrijker is om zo min mogelijk voorspellingen te hebben die diabetes missen. In context van een confusion matrix, **zijn volgens ons** de false negatives belangrijker om te voorkomen dan de false positives. Op basis hiervan kiezen wij voor de metric recall. Met recall wordt gekeken hoeveel van de werkelijk positieve voorspelling correct zijn voorspeld. Als de recall hoog is, mist het model nauwelijks positieve gevallen.\n",
    "\n",
    "Hoewel wij persoonlijk de recall het belangrijkste vinden, zal op Kaggle de F1 scores van de voorspellingen worden gebruikt. Om deze reden zal er getest worden met de F1 score i.p.v. de recall."
   ]
  },
  {
   "cell_type": "markdown",
   "metadata": {},
   "source": [
    "## ***Modelleren***\n",
    "\n",
    "Eerst zal de data uit het test dataframe **omgezet #moet weg** aangepast worden om overeen te komen met de data uit de train dataset."
   ]
  },
  {
   "cell_type": "code",
   "execution_count": 17,
   "metadata": {},
   "outputs": [
    {
     "data": {
      "text/html": [
       "<div>\n",
       "<style scoped>\n",
       "    .dataframe tbody tr th:only-of-type {\n",
       "        vertical-align: middle;\n",
       "    }\n",
       "\n",
       "    .dataframe tbody tr th {\n",
       "        vertical-align: top;\n",
       "    }\n",
       "\n",
       "    .dataframe thead th {\n",
       "        text-align: right;\n",
       "    }\n",
       "</style>\n",
       "<table border=\"1\" class=\"dataframe\">\n",
       "  <thead>\n",
       "    <tr style=\"text-align: right;\">\n",
       "      <th></th>\n",
       "      <th>Pregnancies</th>\n",
       "      <th>Glucose</th>\n",
       "      <th>BloodPressure</th>\n",
       "      <th>BMI</th>\n",
       "      <th>DiabetesPedigreeFunction</th>\n",
       "      <th>Age</th>\n",
       "    </tr>\n",
       "  </thead>\n",
       "  <tbody>\n",
       "    <tr>\n",
       "      <th>count</th>\n",
       "      <td>154.000000</td>\n",
       "      <td>154.000000</td>\n",
       "      <td>154.000000</td>\n",
       "      <td>154.000000</td>\n",
       "      <td>154.000000</td>\n",
       "      <td>154.000000</td>\n",
       "    </tr>\n",
       "    <tr>\n",
       "      <th>mean</th>\n",
       "      <td>0.219669</td>\n",
       "      <td>0.512292</td>\n",
       "      <td>0.387480</td>\n",
       "      <td>0.445826</td>\n",
       "      <td>0.168873</td>\n",
       "      <td>0.202381</td>\n",
       "    </tr>\n",
       "    <tr>\n",
       "      <th>std</th>\n",
       "      <td>0.188787</td>\n",
       "      <td>0.196715</td>\n",
       "      <td>0.151428</td>\n",
       "      <td>0.215945</td>\n",
       "      <td>0.157059</td>\n",
       "      <td>0.190444</td>\n",
       "    </tr>\n",
       "    <tr>\n",
       "      <th>min</th>\n",
       "      <td>0.000000</td>\n",
       "      <td>0.000000</td>\n",
       "      <td>0.000000</td>\n",
       "      <td>0.000000</td>\n",
       "      <td>0.000000</td>\n",
       "      <td>0.000000</td>\n",
       "    </tr>\n",
       "    <tr>\n",
       "      <th>25%</th>\n",
       "      <td>0.062500</td>\n",
       "      <td>0.361290</td>\n",
       "      <td>0.292683</td>\n",
       "      <td>0.277778</td>\n",
       "      <td>0.063452</td>\n",
       "      <td>0.050000</td>\n",
       "    </tr>\n",
       "    <tr>\n",
       "      <th>50%</th>\n",
       "      <td>0.219669</td>\n",
       "      <td>0.503226</td>\n",
       "      <td>0.388862</td>\n",
       "      <td>0.431746</td>\n",
       "      <td>0.126211</td>\n",
       "      <td>0.133333</td>\n",
       "    </tr>\n",
       "    <tr>\n",
       "      <th>75%</th>\n",
       "      <td>0.312500</td>\n",
       "      <td>0.622581</td>\n",
       "      <td>0.487805</td>\n",
       "      <td>0.605556</td>\n",
       "      <td>0.229926</td>\n",
       "      <td>0.316667</td>\n",
       "    </tr>\n",
       "    <tr>\n",
       "      <th>max</th>\n",
       "      <td>1.000000</td>\n",
       "      <td>1.000000</td>\n",
       "      <td>1.000000</td>\n",
       "      <td>1.000000</td>\n",
       "      <td>1.000000</td>\n",
       "      <td>1.000000</td>\n",
       "    </tr>\n",
       "  </tbody>\n",
       "</table>\n",
       "</div>"
      ],
      "text/plain": [
       "       Pregnancies     Glucose  BloodPressure         BMI  \\\n",
       "count   154.000000  154.000000     154.000000  154.000000   \n",
       "mean      0.219669    0.512292       0.387480    0.445826   \n",
       "std       0.188787    0.196715       0.151428    0.215945   \n",
       "min       0.000000    0.000000       0.000000    0.000000   \n",
       "25%       0.062500    0.361290       0.292683    0.277778   \n",
       "50%       0.219669    0.503226       0.388862    0.431746   \n",
       "75%       0.312500    0.622581       0.487805    0.605556   \n",
       "max       1.000000    1.000000       1.000000    1.000000   \n",
       "\n",
       "       DiabetesPedigreeFunction         Age  \n",
       "count                154.000000  154.000000  \n",
       "mean                   0.168873    0.202381  \n",
       "std                    0.157059    0.190444  \n",
       "min                    0.000000    0.000000  \n",
       "25%                    0.063452    0.050000  \n",
       "50%                    0.126211    0.133333  \n",
       "75%                    0.229926    0.316667  \n",
       "max                    1.000000    1.000000  "
      ]
     },
     "execution_count": 17,
     "metadata": {},
     "output_type": "execute_result"
    }
   ],
   "source": [
    "# Copy maken van dataset\n",
    "df_test = data_test.copy()\n",
    "\n",
    "# Aanmaken X_kolommen voor replace\n",
    "df_test[X_kolommen] = df_test[X_kolommen].replace(0, np.nan)\n",
    "\n",
    "# Berekenen en vullen gem\n",
    "gem = df_test.mean()\n",
    "df_test.fillna(gem, inplace=True)\n",
    "\n",
    "# Weghalen van kolommen wegens te hoog aantal nulwaarden\n",
    "df_test.drop('Insulin', axis=1, inplace=True)\n",
    "df_test.drop('SkinThickness', axis=1, inplace=True)\n",
    "\n",
    "df_test.drop('p_id', axis = 1, inplace=True)\n",
    "\n",
    "test_scaled = feature_scaling(df_test)\n",
    "test_scaled.describe()"
   ]
  },
  {
   "cell_type": "markdown",
   "metadata": {},
   "source": [
    "Nu dit is gebeurt zal de train_test_split functie van SKLearn ons helpen om de data op een goede manier te splitsen, zodat we de data kunnen gebruiken om de modellen te trainen."
   ]
  },
  {
   "cell_type": "code",
   "execution_count": 18,
   "metadata": {},
   "outputs": [],
   "source": [
    "X = train_scaled.drop('Outcome', axis=1)\n",
    "y = train_scaled['Outcome']\n",
    "\n",
    "X_train, X_test, y_train, y_test = train_test_split(X, y, random_state=42, test_size=0.2)"
   ]
  },
  {
   "cell_type": "markdown",
   "metadata": {},
   "source": [
    "Nu de data gesplitst is, wordt er een functie aangemaakt om op een gemakkelijke manier de voorspellingen van een model om te zetten naar een csv bestand."
   ]
  },
  {
   "cell_type": "code",
   "execution_count": 19,
   "metadata": {},
   "outputs": [],
   "source": [
    "def submissie(model, suffix):\n",
    "    \"\"\"\n",
    "    Deze functie maakt de voorspelling op de test dataset\n",
    "    en vormt deze om tot een csv bestand om in te kunnen\n",
    "    leveren op Kaggle.\n",
    "\n",
    "    Parameters:\n",
    "    ----------\n",
    "    model : Machine Learning model\n",
    "        De naam die is gegeven aan het ML-model dat\n",
    "        wordt gebruikt om te voorspellen\n",
    "\n",
    "    suffix : str\n",
    "        De laatste 'tag' voor de naam van het csv\n",
    "        bestand, zodat deze makkelijk te identificeren\n",
    "        is na de submission.\n",
    "\n",
    "    Returns:\n",
    "    ----------\n",
    "    None\n",
    "        In plaats van een return maakt het een bestand\n",
    "        aan in de map Kaggle Submissions. De namen zien\n",
    "        er als volgt uit:\n",
    "\n",
    "    \"\"\"\n",
    "    # Fitten, voorspellen en veranderen naar integer\n",
    "    y_pred = model.fit(X_train, y_train).predict(test_scaled)\n",
    "    y_pred = y_pred.astype(int)\n",
    "\n",
    "    # Aanmaken df met alleen p_id en Outcome\n",
    "    test_predictions_df = pd.DataFrame(\n",
    "        {'p_id': data_test['p_id'],\n",
    "        'Outcome': y_pred})\n",
    "    \n",
    "    # Aanmaken van tijd\n",
    "    tijd = datetime.datetime.now().strftime(\"%m%d%H%M%S\")\n",
    "\n",
    "    # Aanmaken csv bestand met timestamp\n",
    "    test_predictions_df.to_csv(\n",
    "        f'Kaggle Submissions/vs_{suffix}_{tijd}.csv',\n",
    "        index=False)\n",
    "    \n",
    "    # print voor conformatie\n",
    "    print(f'vs_{suffix}_{tijd}.csv has been saved!')"
   ]
  },
  {
   "cell_type": "markdown",
   "metadata": {},
   "source": [
    "Nu zal de standaard CV methode aangemaakt worden, zodat deze code zich niet meerdere keren herhaald bij de GridSearch stappen."
   ]
  },
  {
   "cell_type": "code",
   "execution_count": 20,
   "metadata": {},
   "outputs": [],
   "source": [
    "cv = RepeatedStratifiedKFold(n_splits=5, \n",
    "                             n_repeats=3, \n",
    "                             random_state=42)"
   ]
  },
  {
   "cell_type": "markdown",
   "metadata": {},
   "source": [
    "Nu alle voorbereidende stappen zijn gedaan kunnen de modellen worden gemaakt, verbeterd en gebruikt om zo sterk mogelijke voorspellingen te creeëren.\n",
    "\n",
    "### ***Logistische Regressie***\n",
    "\n",
    "#### **De werking van LR** \n",
    "Bij logistice regressie wordt de waarde van een afhankelijke variabele voorspelt op basis van een of meerdere onafhankelijke variabelen. Logistische regressie wordt gebruikt bij classificatie problemen.\n",
    "\n",
    "#### **Loss functie**\n",
    "\n",
    "$BCE = -\\frac{1}{N} \\sum_{i=1}{N} \\left[ y_true \\log(\\hat{y_pred}) + (1-y_true) \\log(1-\\hat{y_pred}) \\right]$\n",
    "\n",
    "y_true is 1 of 0 (positief of negatief)\n",
    "\n",
    "y_pred is een kans tussen 0 en 1\n",
    "\n",
    "#### **Gradient descent**\n",
    "\n",
    "**Gradien descent is een optimalisatie algoritme dat de erors minimaliseert tussen de true en predicticted resultaten. De formule van gradient descent is  𝑥𝑛𝑒𝑤=𝑥𝑜𝑙𝑑−𝛼𝑑𝑦𝑑𝑥\n",
    "  waarbij 𝑥𝑛𝑒𝑤 de bijgewerkte waarde van de onafhankelijke variabele na één stap is, 𝑥𝑜𝑙𝑑 is de vorige waarde van de onafhankelijke variabele, 𝑑𝑦𝑑𝑥 de gradiënt (afgeleide) van deze functie ten opzichte van de onafhankelijke variabele is en 𝛼 is de learning rate, deze bepaalt de grootte van de stap die wordt genomen.**\n",
    "\n",
    "**𝑦=𝑥2−𝑥−6 de gradient van deze functie is f'(x) = 2x-1. De wiskundige formule van het berekenen van de gradient is xn = nx*n-1**\n",
    "\n",
    "\n",
    "\n",
    "**(Gradient Descent in Machine Learning, z.d.)**\n",
    "\n",
    "\n",
    "#### **Regularisatie**\n",
    "De vorm van regularisatie die van toepassing is op logistic regression is de L1 en L2 regularisatie. Ook wel de Lasso (L1) en ridge (L2) regularisatie genoemd. Door regularisatie toe te passen, wordt een complex model tijdens het trainen vereenvoudigd. \n",
    "L1 voegt de “absolute waarde van de grootte” (“absolute value of magnitude”) van de coëfficiënt als penalty term toe aan de loss-functie.\n",
    "L2 voegt de “kwadratische omvang” (“squared magnitude”) van de coëfficiënt als penalty term toe aan de loss-functie. **(Nagpal, 2022)**\n",
    "\n",
    "\n",
    "**Wiskundige formule voor L1 is:\n",
    "L1(θ) = λ * Σ|θj|**\n",
    "\n",
    "**Waarbij\n",
    "θj L1-norm van de gewichtsvector\n",
    "λ is de regularisatieparameter**\n",
    "\n",
    "**wiskundige formule voor L2 is:\n",
    "L2(θ) = λ * Σ(θj^2)**\n",
    "\n",
    "**waarbij\n",
    "θj L2-norm van de gewichtsvector\n",
    "λ is de regularisatieparameter**\n",
    "\n",
    "**Misschien zelfde als bij SVM hier neerzetten?**\n",
    "\n",
    "Het verminderen of verwijderen van modelparameters is een methode om overfitting te voorkomen.\n",
    "\n",
    "Nu het duidelijk is wat Logistische Regressie inhoud, kan er een model worden opgesteld."
   ]
  },
  {
   "cell_type": "code",
   "execution_count": 21,
   "metadata": {},
   "outputs": [
    {
     "name": "stdout",
     "output_type": "stream",
     "text": [
      "F1 score: 0.6352941176470589\n"
     ]
    }
   ],
   "source": [
    "# Aanmaken LR model\n",
    "lr = LogisticRegression(solver='liblinear',\n",
    "                        random_state=42)\n",
    "\n",
    "# Fitten en voorspellen met LR\n",
    "y_pred = lr.fit(X_train, y_train).predict(X_test)\n",
    "print(f'F1 score: {f1_score(y_test, y_pred)}')"
   ]
  },
  {
   "cell_type": "markdown",
   "metadata": {},
   "source": [
    "Nu het eerste model is gemaakt gaan we deze tunen met behulp van GridSearchCV. Hiervoor maken we een dictionary aan met de parameters die we willen testen, vervolgens kan GridSearch gebruikt worden."
   ]
  },
  {
   "cell_type": "code",
   "execution_count": 22,
   "metadata": {},
   "outputs": [
    {
     "name": "stdout",
     "output_type": "stream",
     "text": [
      "Beste f1: 0.6259493599245204\n",
      "Beste parameters:\n",
      "{'C': 10, 'max_iter': 500, 'penalty': 'l1'}\n"
     ]
    }
   ],
   "source": [
    "# Aanmaken parameter dictionary\n",
    "param_lr = {\n",
    "    'penalty': ['l1', 'l2'],\n",
    "    'C': [0.001, 0.01, 0.1, 1, 10, 100],\n",
    "    'max_iter': [500, 1000, 2000, 5000]\n",
    "}\n",
    "\n",
    "# Uitvoeren van Grid Search CV\n",
    "gs_lr = GridSearchCV(estimator=lr,\n",
    "                    param_grid=param_lr,\n",
    "                    cv=cv,\n",
    "                    scoring='f1',\n",
    "                    n_jobs=-1)\n",
    "\n",
    "# Fitten van Grid Search en bekijken uitkomst\n",
    "gs_lr.fit(X_train, y_train)\n",
    "print(f\"Beste f1: {gs_lr.best_score_}\")\n",
    "print(f\"Beste parameters:\\n{gs_lr.best_params_}\")"
   ]
  },
  {
   "cell_type": "markdown",
   "metadata": {},
   "source": [
    "Met deze optimale parameters gaan we de voorspellingen opnieuw maken. Deze kunnen vervolgens in een csv bestand worden omgezet om ingeleverd te worden op Kaggle."
   ]
  },
  {
   "cell_type": "code",
   "execution_count": 23,
   "metadata": {},
   "outputs": [
    {
     "name": "stdout",
     "output_type": "stream",
     "text": [
      "F1 score: 0.651685393258427\n"
     ]
    }
   ],
   "source": [
    "# Aanmaken verbeterd LR model\n",
    "lr_tuned = LogisticRegression(solver='liblinear',\n",
    "                              C=10,\n",
    "                              max_iter=500,\n",
    "                              penalty='l1',\n",
    "                              random_state=42)\n",
    "\n",
    "# Fitten en voorspellen verbeterd LR model\n",
    "y_pred = lr_tuned.fit(X_train, y_train).predict(X_test)\n",
    "print(f'F1 score: {f1_score(y_test, y_pred)}')\n",
    "\n",
    "# Aanmaken CSV\n",
    "# submissie(lr_tuned, 'LR')"
   ]
  },
  {
   "cell_type": "markdown",
   "metadata": {},
   "source": [
    "### ***Decision Tree***\n",
    "\n",
    "In dit gedeelte wordt een decision tree model gemaakt. Allereerst moeten we weten wat een decision tree model is, en hoe het werkt. Een decision tree model is een vorm van supervised machine learning. In dit geval wordt een decision tree classifier gebruikt omdat dit een classificatie probleem is. Het werkt door de dataset recursief te verdelen in \"vertakkingen\" op basis van de waarden van de invoerfuncties. Deze splitsingen creëren een structuur die op een boom lijkt, waarbij elke vertakking een beslissing of een test op een kenmerk vertegenwoordigt. En op die gesplitste data wordt weer een beslissing genomen, en zo vertakt het model tot we bij de \"bladeren\" komen. En net zoals bij een boom, noemen we de eerste splitsing de \"wortel\", en eindigen we bij het blad. Na het blad stopt het model met splitsen.\n",
    "\n",
    "TOEVOEGEN: criteria\n",
    "\n",
    "hyperparameters\n",
    "\n",
    "pruning + uitleg\n",
    "\n",
    "<i>Uitleg mist nog</i>"
   ]
  },
  {
   "cell_type": "code",
   "execution_count": 24,
   "metadata": {},
   "outputs": [
    {
     "name": "stdout",
     "output_type": "stream",
     "text": [
      "F1 score: 0.6451612903225806\n"
     ]
    }
   ],
   "source": [
    "# Aanmaken DT model\n",
    "dt = DecisionTreeClassifier(random_state=42)\n",
    "\n",
    "# Fitten en voorspellen met DT\n",
    "y_pred = dt.fit(X_train, y_train).predict(X_test)\n",
    "print(f'F1 score: {f1_score(y_test, y_pred)}')"
   ]
  },
  {
   "cell_type": "markdown",
   "metadata": {},
   "source": [
    "Nu het eerste model is gemaakt gaan we deze tunen met behulp van GridSearchCV. Hiervoor maken we een dictionary aan met de parameters die we willen testen, vervolgens kan GridSearch gebruikt worden."
   ]
  },
  {
   "cell_type": "code",
   "execution_count": 25,
   "metadata": {},
   "outputs": [
    {
     "name": "stdout",
     "output_type": "stream",
     "text": [
      "Beste f1: 0.5992862882389927\n",
      "Beste parameters:\n",
      "{'criterion': 'entropy', 'max_depth': 5, 'min_samples_leaf': 8}\n"
     ]
    }
   ],
   "source": [
    "# Aanmaken parameter dictionary\n",
    "param_dt = {\n",
    "    \"criterion\": [\"gini\", \"entropy\"],\n",
    "    \"max_depth\": [5, 10, 20],\n",
    "    \"min_samples_leaf\": [2, 4, 8]\n",
    "}\n",
    "\n",
    "# Uitvoeren van Grid Search CV\n",
    "gs_dt = GridSearchCV(estimator=dt,\n",
    "                     param_grid=param_dt,\n",
    "                     cv=cv,\n",
    "                     scoring=\"f1\",\n",
    "                     n_jobs=-1)\n",
    "\n",
    "# Fitten van Grid Search en bekijken uitkomst\n",
    "gs_dt.fit(X_train, y_train)\n",
    "print(f\"Beste f1: {gs_dt.best_score_}\")\n",
    "print(f\"Beste parameters:\\n{gs_dt.best_params_}\")"
   ]
  },
  {
   "cell_type": "markdown",
   "metadata": {},
   "source": [
    "Met deze optimale parameters gaan we de voorspellingen opnieuw maken. Deze kunnen vervolgens in een csv bestand worden omgezet om ingeleverd te worden op Kaggle."
   ]
  },
  {
   "cell_type": "code",
   "execution_count": 26,
   "metadata": {},
   "outputs": [
    {
     "name": "stdout",
     "output_type": "stream",
     "text": [
      "F1 score: 0.5128205128205128\n"
     ]
    }
   ],
   "source": [
    "# Aanmaken verbeterd DT model\n",
    "dt_tuned = DecisionTreeClassifier(criterion='gini',\n",
    "                                  max_depth=5,\n",
    "                                  min_samples_leaf=8,\n",
    "                                  random_state=42)\n",
    "\n",
    "# Fitten en voorspellen verbeterd DT model\n",
    "y_pred = dt_tuned.fit(X_train, y_train).predict(X_test)\n",
    "print(f'F1 score: {f1_score(y_test, y_pred)}')\n",
    "\n",
    "# Aanmaken CSV\n",
    "# submissie(dt_tuned, 'dt')"
   ]
  },
  {
   "cell_type": "markdown",
   "metadata": {},
   "source": [
    "## ***Random forest***\n",
    "\n",
    "Random Forest is een vorm van een ensemble model dat gebaseerd is op Decision Tree.\n",
    "\n",
    "### *Werking van het Random Forest-model:*\n",
    "**Bootstrap Aggregating (Bagging):** Random Forest bestaat uit een ensemble van Decision Trees. Elk van deze trees wordt getraind op een steekproef uit de train data, deze is opgesteld door willekeurig rijen te nemen uit de dataset met teruglegging. Dit wordt bootstrapping genoemd.\n",
    "\n",
    "**Random Feature Selectie:** Bij elke instantie van een Random Forest wordt slechts een deel van de beschikbare functies gekozen om de splitsing te maken. Hierdoor krijgen de individuele trees verschillende perspectieven op de gegevens.\n",
    "\n",
    "**Voting of Gemiddelde:** In plaats van één enkele Decision Tree om voorspellingen te doen, combineert een Random Forest de voorspellingen van alle bomen in de ensemble door middel van een meerderheidsstemming (voor classificatie) of een gemiddelde (voor regressie).\n",
    "\n",
    "**Overfitting beperken:** Door de bovenstaande technieken van willekeur en aggregatie te gebruiken, helpt een Random Forest overfitting te verminderen.\n",
    "\n",
    "### *Performance in vergelijking met andere tree-based modellen:*\n",
    "In vergelijking met enkele Decision Trees heeft Random Forest over het algemeen betere prestaties omdat het de neiging tot overfitting vermindert en de nauwkeurigheid van de voorspellingen verhoogt.\n",
    "\n",
    "Nu duidelijk is hoe Random Forest werkt, zal er een model gemaakt worden."
   ]
  },
  {
   "cell_type": "code",
   "execution_count": 27,
   "metadata": {},
   "outputs": [
    {
     "name": "stdout",
     "output_type": "stream",
     "text": [
      "F1 score: 0.6736842105263158\n"
     ]
    }
   ],
   "source": [
    "# Aanmaken RF model\n",
    "rf = RandomForestClassifier(random_state=42,\n",
    "                            n_jobs=-1)\n",
    "\n",
    "# Fitten en voorspellen met RF\n",
    "y_pred = rf.fit(X_train, y_train).predict(X_test)\n",
    "print(f'F1 score: {f1_score(y_test, y_pred)}')"
   ]
  },
  {
   "cell_type": "markdown",
   "metadata": {},
   "source": [
    "Nu het eerste model is gemaakt gaan we deze tunen met behulp van GridSearchCV. Hiervoor maken we een dictionary aan met de parameters die we willen testen, vervolgens kan GridSearch gebruikt worden."
   ]
  },
  {
   "cell_type": "code",
   "execution_count": 28,
   "metadata": {},
   "outputs": [
    {
     "name": "stderr",
     "output_type": "stream",
     "text": [
      "\n",
      "KeyboardInterrupt\n",
      "\n"
     ]
    }
   ],
   "source": [
    "# Aanmaken parameter dictionary\n",
    "param_rf = {\n",
    "    'criterion': ['gini', 'entropy', 'log_loss'],\n",
    "    'n_estimators': [100, 200, 300, 400],\n",
    "    'max_depth': [5, 10, 20]\n",
    "}\n",
    "\n",
    "# Uitvoeren van Grid Search CV\n",
    "gs_rf = GridSearchCV(estimator=rf, \n",
    "                     param_grid=param_rf, \n",
    "                     cv=cv,\n",
    "                     scoring='f1',\n",
    "                     n_jobs=-1)\n",
    "\n",
    "# Fitten Grid Search en bekijken uitkomst\n",
    "gs_rf.fit(X_train, y_train)\n",
    "print(f\"Beste f1: {gs_rf.best_score_}\")\n",
    "print(f\"Beste parameters:\\n{gs_rf.best_params_}\")"
   ]
  },
  {
   "cell_type": "markdown",
   "metadata": {},
   "source": [
    "### *Pruning in Random Forest*\n",
    "Hoewel het niet **per se** nodig is om pruning toe te passen op Random Forest, is het bij het maken van ons model wel van toepassing gekomen. Door de max_depth aan te passen van None naar 5 is de accuracy van het model verbeterd **met** ca. 0.04. Dit staat gelijk aan ongeveer 4% accuracy.\n",
    "\n",
    "Nu de optimale hyperparameters gekozen zijn **hier moet komma** worden deze ingevuld bij een Random Forest model, om zo de voorspellingen goed aan te maken. Dit wordt ook gedaan zodat de GridSearch niet elke keer uitgevoerd moet worden als er op Run All word geklikt."
   ]
  },
  {
   "cell_type": "markdown",
   "metadata": {},
   "source": [
    "Met deze optimale parameters gaan we de voorspellingen opnieuw maken. Deze kunnen vervolgens in een csv bestand worden omgezet om ingeleverd te worden op Kaggle."
   ]
  },
  {
   "cell_type": "code",
   "execution_count": null,
   "metadata": {},
   "outputs": [],
   "source": [
    "# Aanmaken verbeterd RF model\n",
    "rf_tuned = RandomForestClassifier(criterion='entropy',\n",
    "                                  n_estimators=200,\n",
    "                                  max_depth=10,\n",
    "                                  random_state=42,\n",
    "                                  n_jobs=-1)\n",
    "\n",
    "# Fitten en voorspellen verbeterd RF model\n",
    "y_pred = rf_tuned.fit(X_train, y_train).predict(X_test)\n",
    "print(f'F1 score: {f1_score(y_test, y_pred)}')\n",
    "\n",
    "# Aanmaken CSV\n",
    "# submissie(rf_tuned, 'RFC')"
   ]
  },
  {
   "cell_type": "markdown",
   "metadata": {},
   "source": [
    "## ***Gradient Boosting***\n",
    "\n",
    "Gradient boosting is een manier van machine learning gebruikt in regressie and classificatieproblemen waarbij meerdere zogenaamde \"weak learners\", modellen die weinig aannames doen over de data, als een \"ensemble\" of samenwerking voorspellingen doen over de data. Er zijn meerdere redenen waarom er voor gradient boosting gekozen **wordt** in plaats van andere modellen. Omdat er bij gradient boosting gebruik **wordt** gemaakt van meerdere modellen die de fouten van vorige modellen corrigeren, kan het accurater zijn. Door het gebruik van weak learners is gradient boosting ook bestendiger **tegen** overfitting.\n",
    "\n",
    "Er zijn ook een paar nadelen verbonden aan het gebruik van gradient boosting. Het is een stuk complexer dan een standaard model, en deze complexiteit en het gebruik van meerdere bomen zorgt er voor dat de tijd die het kost om het model te maken een stuk langer kan zijn dan een standaard model."
   ]
  },
  {
   "cell_type": "code",
   "execution_count": null,
   "metadata": {},
   "outputs": [],
   "source": [
    "# aanmaken gradient boosting model\n",
    "gb = GradientBoostingClassifier(random_state = 42)"
   ]
  },
  {
   "cell_type": "code",
   "execution_count": null,
   "metadata": {},
   "outputs": [],
   "source": [
    "# gebruik van gridsearch om de beste parameters te zoeken\n",
    "param_gb = {\"criterion\":[\"friedman_mse\", \"squared_error\"], \"learning_rate\":[0.1, 5000, 7500, 8000, 8500], \"n_estimators\":[1, 3, 5], \"max_depth\":[2, 3 ,5], \"min_samples_leaf\":[2, 4, 8]}\n",
    "\n",
    "gs_gb = GridSearchCV(gb, param_gb, cv=cv, scoring=\"recall\", n_jobs=-1)\n",
    "\n",
    "gs_gb.fit(X_train, y_train)\n",
    "\n",
    "gs_gb.best_params_"
   ]
  },
  {
   "cell_type": "code",
   "execution_count": null,
   "metadata": {},
   "outputs": [],
   "source": [
    "# model met beste parameters voor Kaggle submissie\n",
    "gb_sub = GradientBoostingClassifier(criterion=\"friedman_mse\", learning_rate=8000, max_depth=5, min_samples_leaf=4, n_estimators=1)\n",
    "\n",
    "y_pred_gb = gb_sub.fit(X_train, y_train).predict(test_scaled)\n",
    "y_pred_gb = y_pred_gb.astype(int)\n",
    "y_pred_gb"
   ]
  },
  {
   "cell_type": "markdown",
   "metadata": {},
   "source": [
    "## ***Support Vector Machines***\n",
    "\n",
    "#### *Werking van SVM*\n",
    "Een Support Vector Machine is een model dat ingezet kan worden bij classificatie en regressie problemen. Het model heeft als doel om een hyperplane (de beslissingsgrens) te vinden, waarbij de datapunten in verschillende klassen worden gescheden en waarbij een zo groot mogelijke marge tussen de klassen zit. In een deel van de ML-problemen zal de hyperplane van een SVM model een lineaire vergelijking **aannemen**. Aan de hand van een wiskundig voorbeeld zal dit worden uitgelegd:\n",
    "\n",
    "Elk gegeven punt in de grafiek voor SVM zal bestaan uit een waarde (x, y). Het doel van SVM is om een grens te maken tussen de punten, om zo deze punten te classificeren. In onze dataset ziet de formule voor deze lijn er als volgt uit:\n",
    "\n",
    "$w_1x_1 + w_2x_2 + w_3x_3 + w_4x_4 + w_5x_5 + w_6x_6 + b = 0$. \n",
    "\n",
    "Bij deze formule zijn $w$ de gewichten die de helling bepalen, $b$ is de bias term die de verschuiving bepaald en $x$ staat voor de betreffende kolom. De verschillende getallen achter de $w$ en de $x$ staan voor de verschillende parameters van het model. Het doel is dan om, aan de hand van de bovenstaande formule, een lijn te trekken waardoor de voorspellingen zo accuraat mogelijk worden voorspeld. Dit terwijl de marge tussen de punten en de lijn zo groot mogelijk blijft. De uitkomsten van de formule tonen aan waar het punt zou moeten liggen, aan de positieve of de negatieve kant van de lijn. Om de marge vervolgens te optimaliseren gebruiken we de volgende formule: $\\frac{2}{||w||}$. Hierbij is $||w||$ de norm van de vector, dit is veel gebruikt om de lengte van een vector te meten.\n",
    "\n",
    "In sommige gevallen zijn de gegevens niet goed lineair scheidbaar, in dit geval wordt de kerneltruc toegepast. Een kernel is een functie die de gegevens naar een hogere dimensionale ruimte projecteert, waar ze mogelijk lineair scheidbaar zijn. De kerneltruc maakt het mogelijk om deze projectie te vermijden en berekeningen direct in de oorspronkelijke ruimte uit te voeren, waardoor SVM geschikt is voor complexe datasets. Kortom: de kerneltruc helpt SVM bij het modelleren van niet-lineaire beslissingsgrenzen.\n",
    "\n",
    "#### *Loss functie*\n",
    "De loss functie bij SVM ziet er als volgt uit:\n",
    "\n",
    "$Loss = \\sum_{i=1}^{N} max(0,1 - y_i(w^Tx_i + b)) + \\lambda||w||^2$\n",
    "\n",
    "Uitleg van letters bij Loss functie:\n",
    "- $N$: Het aantal datapunten\n",
    "- $x_i$: een datapunt\n",
    "- $y_i$: de label van datapunt $x_i$\n",
    "- $w$: de gewichtsvector van de hyperplane\n",
    "- $b$: de bias-term\n",
    "- $\\lambda$: de regularisatieparameter\n",
    "- $||w||^2$: de L2-norm van de gewichtsvector\n",
    "\n",
    "Het eerste deel van de functie ($\\sum_{i=1}^{N} max(0,1 - y_i(w^Tx_i + b))$) meet hoe ver alle punten aan de verkeerde kant van de lijn staan. Als het label correct is voorspeld is de loss gelijk aan 0, zo niet dan neemt de loss meer toe naarmate de fout groter is. Het tweede deel van de functie ($\\lambda||w||^2$) is de toegepaste vorm van regularisatie, in de bovenstaande functie is er gebruikt gemaakt van Ridge regularisatie. In de onderstaande tekst worden Ridge en Lasso, de vormen van regularisatie, besproken en uitgelegd.\n",
    "\n",
    "#### *Regularisatie bij SVM*\n",
    "**Lasso (L1)**<br>\n",
    "Lasso (ook bekend als L1-regularisatie) voegt een term toe aan de loss functie die in gelijke verhouding staat tot de absolute waarden van de gewichten. Deze vorm van regularisatie wordt geschreven als: $\\lambda||w||_1$. Bij dit deel is $\\lambda$ regularisatieparameter en $||w||_1$ de L1-norm van de gewichtsvector. Het effect dat Lasso heeft is dat het sommige gewichten reduceert to nul. Hierdoor worden sommige kenmerken volledig genegeeerd, waardoor feature selectie mogelijk wordt gemaakt. Door middel van feature selectie wordt de kans op overfitting verminderd.\n",
    "\n",
    "**Ridge (L2)**<br>\n",
    "Ridge (ook bekend als L2-regularisatie) voegt een term toe aan de loss functie die in gelijke verhouding staat tot de kwadraten van de gewichten. Deze vorm van regularisatie wordt geschreven als: $\\lambda||w||^2$. Bij dit deel is $\\lambda$ regularisatieparameter en $||w||^2$ de L2-norm van de gewichtsvector. Het effect dat Ridge heeft is dat het de waarden van gewichten dicht naar de nul brengt, maar niet nul maakt. De ridge manier gaat de mogelijke overfitting tegen door te zorgen dat de gewichten geen te grootte waarden kunnen aannemen.\n",
    "\n",
    "Nu er kennis is gemaakt met het model kan er worden gecodeerd in python:"
   ]
  },
  {
   "cell_type": "code",
   "execution_count": null,
   "metadata": {},
   "outputs": [],
   "source": [
    "# Aanmaken SVM model\n",
    "svmc = SVC(random_state=42)\n",
    "\n",
    "# Fitten en voorspellen met SVM\n",
    "y_pred = svmc.fit(X_train, y_train).predict(X_test)\n",
    "print(f'F1 score: {f1_score(y_test, y_pred)}')"
   ]
  },
  {
   "cell_type": "markdown",
   "metadata": {},
   "source": [
    "Nu het eerste model is gemaakt gaan we deze tunen met behulp van GridSearchCV. Hiervoor maken we een dictionary aan met de parameters die we willen testen, vervolgens kan GridSearch gebruikt worden."
   ]
  },
  {
   "cell_type": "code",
   "execution_count": null,
   "metadata": {},
   "outputs": [],
   "source": [
    "# Aanmaken parameter dictionary\n",
    "param_svm = {\n",
    "    'C': [0.001, 0.01, 0.1, 1.0, 10.0],\n",
    "    'kernel': ['linear', 'rbf'],\n",
    "    'gamma': [0.001, 0.01, 0.1, 1.0, 10.0],\n",
    "    'degree': [1, 2, 3]\n",
    "}\n",
    "\n",
    "# Uitvoeren van Grid Search CV\n",
    "gs_svm = GridSearchCV(estimator=svmc,\n",
    "                      param_grid=param_svm,\n",
    "                      cv=cv,\n",
    "                      scoring='f1',\n",
    "                      n_jobs=-1)\n",
    "\n",
    "# Fitten Grid Search en bekijken uitkomst\n",
    "gs_svm.fit(X_train, y_train)\n",
    "print(f\"Beste f1: {gs_svm.best_score_}\")\n",
    "print(f\"Beste parameters:\\n{gs_svm.best_params_}\")"
   ]
  },
  {
   "cell_type": "markdown",
   "metadata": {},
   "source": [
    "Met deze optimale parameters gaan we de voorspellingen opnieuw maken. Deze kunnen vervolgens in een csv bestand worden omgezet om ingeleverd te worden op Kaggle."
   ]
  },
  {
   "cell_type": "code",
   "execution_count": null,
   "metadata": {},
   "outputs": [],
   "source": [
    "# Aanmaken verbeterd SVM model\n",
    "svmc_tuned = SVC(kernel='linear',\n",
    "                 C=10.0,\n",
    "                 degree=1,\n",
    "                 gamma=0.001,\n",
    "                 random_state=42)\n",
    "\n",
    "# Fitten en voorspellen verbeterd SVM model\n",
    "y_pred = svmc_tuned.fit(X_train, y_train).predict(X_test)\n",
    "print(f'F1 score: {f1_score(y_test, y_pred)}')\n",
    "\n",
    "# Aanmaken CSV\n",
    "# submissie(svmc_tuned, 'SVM')"
   ]
  },
  {
   "cell_type": "markdown",
   "metadata": {},
   "source": [
    "# Bronvermelding\n",
    "\n",
    "powerpoints uit de lessen **(LR en ADA boosting)**\n",
    "\n",
    "datacamp **(LR en ADA boosting)**\n",
    "\n",
    "Nagpal, A. (2022, 05 januari). L1 and L2 Regularization Methods, Explained. Builtin. Van https://builtin.com/data-science/l2-regularization. **(LR)**\n",
    "\n",
    "\n",
    "Gradient Descent in Machine Learning. (z.d.). Javapoint. Van https://www.javatpoint.com/gradient-descent-in-machine-learning **(LR)**\n"
   ]
  },
  {
   "cell_type": "code",
   "execution_count": null,
   "metadata": {},
   "outputs": [],
   "source": []
  }
 ],
 "metadata": {
  "kernelspec": {
   "display_name": "Python 3 (ipykernel)",
   "language": "python",
   "name": "python3"
  },
  "language_info": {
   "codemirror_mode": {
    "name": "ipython",
    "version": 3
   },
   "file_extension": ".py",
   "mimetype": "text/x-python",
   "name": "python",
   "nbconvert_exporter": "python",
   "pygments_lexer": "ipython3",
   "version": "3.9.12"
  }
 },
 "nbformat": 4,
 "nbformat_minor": 2
}
