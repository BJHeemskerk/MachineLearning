{
 "cells": [
  {
   "cell_type": "markdown",
   "id": "39a3d26c",
   "metadata": {},
   "source": [
    "Opdracht 1: Exploratieve Data Analyse (10 punten)\n",
    "\n",
    " Noteer je teamnaam, jullie namen en alle bijhorende Kaggle gebruikersnamen in het\n",
    "notebook.\n",
    "\n",
    " Voer een Exploratieve Data Analyse (EDA) uit:\n",
    "\n",
    "o Beschrijf in hoeverre de data voldoet aan de minimale vereisten voor Machine\n",
    "Learning met Scikit Learn. Indien nodig, maak de noodzakelijke aanpassingen.\n",
    "\n",
    "o Toon de datatypes en basisstatistieken van iedere kolom.\n",
    "\n",
    "o Onderzoek de relaties tussen de onafhankelijke variabelen enerzijds en de\n",
    "afhankelijke variabele anderzijds. Gebruik hierbij passende visualisaties.\n",
    "\n",
    "o Beschrijf wat de belangrijkste bevindingen zijn van de EDA.\n",
    "\n",
    " Sommige regels en/of kolommen zijn soms niet relevant voor machine learning. Schoon de\n",
    "data op zodat alleen relevante regels resteren.\n",
    "\n",
    " Beschrijf wat wordt bedoeld met het standaardiseren van de data. Geef aan in welke\n",
    "gevallen dit gewenst is. Beargumenteer of het waarde toevoegt voor deze dataset en voer\n",
    "eventueel standaardisatie uit."
   ]
  },
  {
   "cell_type": "code",
   "execution_count": null,
   "id": "cf00f2a2",
   "metadata": {},
   "outputs": [],
   "source": []
  }
 ],
 "metadata": {
  "kernelspec": {
   "display_name": "Python 3 (ipykernel)",
   "language": "python",
   "name": "python3"
  },
  "language_info": {
   "codemirror_mode": {
    "name": "ipython",
    "version": 3
   },
   "file_extension": ".py",
   "mimetype": "text/x-python",
   "name": "python",
   "nbconvert_exporter": "python",
   "pygments_lexer": "ipython3",
   "version": "3.9.12"
  }
 },
 "nbformat": 4,
 "nbformat_minor": 5
}
