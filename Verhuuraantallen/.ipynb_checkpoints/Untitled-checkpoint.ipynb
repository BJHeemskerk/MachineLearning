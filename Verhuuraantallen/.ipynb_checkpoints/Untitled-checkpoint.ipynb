{
 "cells": [
  {
   "cell_type": "code",
   "execution_count": 1,
   "id": "35f7433e",
   "metadata": {},
   "outputs": [],
   "source": [
    "import pandas as pd\n",
    "import numpy as np\n",
    "import seaborn as sns\n",
    "import matplotlib.pyplot as plt\n",
    "\n",
    "data_test = pd.read_csv('test.csv', sep = ',')\n",
    "data_train = pd.read_csv('train.csv', sep = ',')\n"
   ]
  },
  {
   "cell_type": "code",
   "execution_count": 2,
   "id": "4b09ed96",
   "metadata": {},
   "outputs": [
    {
     "data": {
      "text/html": [
       "<div>\n",
       "<style scoped>\n",
       "    .dataframe tbody tr th:only-of-type {\n",
       "        vertical-align: middle;\n",
       "    }\n",
       "\n",
       "    .dataframe tbody tr th {\n",
       "        vertical-align: top;\n",
       "    }\n",
       "\n",
       "    .dataframe thead th {\n",
       "        text-align: right;\n",
       "    }\n",
       "</style>\n",
       "<table border=\"1\" class=\"dataframe\">\n",
       "  <thead>\n",
       "    <tr style=\"text-align: right;\">\n",
       "      <th></th>\n",
       "      <th>date_hour</th>\n",
       "      <th>holiday</th>\n",
       "      <th>weathersit</th>\n",
       "      <th>temp</th>\n",
       "      <th>atemp</th>\n",
       "      <th>hum</th>\n",
       "      <th>windspeed</th>\n",
       "      <th>cnt</th>\n",
       "    </tr>\n",
       "  </thead>\n",
       "  <tbody>\n",
       "    <tr>\n",
       "      <th>0</th>\n",
       "      <td>2011-01-01 00:00:00</td>\n",
       "      <td>0</td>\n",
       "      <td>1</td>\n",
       "      <td>0.24</td>\n",
       "      <td>0.2879</td>\n",
       "      <td>0.81</td>\n",
       "      <td>0.0000</td>\n",
       "      <td>16</td>\n",
       "    </tr>\n",
       "    <tr>\n",
       "      <th>1</th>\n",
       "      <td>2011-01-01 01:00:00</td>\n",
       "      <td>0</td>\n",
       "      <td>1</td>\n",
       "      <td>0.22</td>\n",
       "      <td>0.2727</td>\n",
       "      <td>0.80</td>\n",
       "      <td>0.0000</td>\n",
       "      <td>40</td>\n",
       "    </tr>\n",
       "    <tr>\n",
       "      <th>2</th>\n",
       "      <td>2011-01-01 02:00:00</td>\n",
       "      <td>0</td>\n",
       "      <td>1</td>\n",
       "      <td>0.22</td>\n",
       "      <td>0.2727</td>\n",
       "      <td>0.80</td>\n",
       "      <td>0.0000</td>\n",
       "      <td>32</td>\n",
       "    </tr>\n",
       "    <tr>\n",
       "      <th>3</th>\n",
       "      <td>2011-01-01 03:00:00</td>\n",
       "      <td>0</td>\n",
       "      <td>1</td>\n",
       "      <td>0.24</td>\n",
       "      <td>0.2879</td>\n",
       "      <td>0.75</td>\n",
       "      <td>0.0000</td>\n",
       "      <td>13</td>\n",
       "    </tr>\n",
       "    <tr>\n",
       "      <th>4</th>\n",
       "      <td>2011-01-01 04:00:00</td>\n",
       "      <td>0</td>\n",
       "      <td>1</td>\n",
       "      <td>0.24</td>\n",
       "      <td>0.2879</td>\n",
       "      <td>0.75</td>\n",
       "      <td>0.0000</td>\n",
       "      <td>1</td>\n",
       "    </tr>\n",
       "    <tr>\n",
       "      <th>...</th>\n",
       "      <td>...</td>\n",
       "      <td>...</td>\n",
       "      <td>...</td>\n",
       "      <td>...</td>\n",
       "      <td>...</td>\n",
       "      <td>...</td>\n",
       "      <td>...</td>\n",
       "      <td>...</td>\n",
       "    </tr>\n",
       "    <tr>\n",
       "      <th>16632</th>\n",
       "      <td>2012-11-30 19:00:00</td>\n",
       "      <td>0</td>\n",
       "      <td>1</td>\n",
       "      <td>0.32</td>\n",
       "      <td>0.3485</td>\n",
       "      <td>0.66</td>\n",
       "      <td>0.0000</td>\n",
       "      <td>377</td>\n",
       "    </tr>\n",
       "    <tr>\n",
       "      <th>16633</th>\n",
       "      <td>2012-11-30 20:00:00</td>\n",
       "      <td>0</td>\n",
       "      <td>1</td>\n",
       "      <td>0.32</td>\n",
       "      <td>0.3485</td>\n",
       "      <td>0.66</td>\n",
       "      <td>0.0000</td>\n",
       "      <td>245</td>\n",
       "    </tr>\n",
       "    <tr>\n",
       "      <th>16634</th>\n",
       "      <td>2012-11-30 21:00:00</td>\n",
       "      <td>0</td>\n",
       "      <td>1</td>\n",
       "      <td>0.30</td>\n",
       "      <td>0.3182</td>\n",
       "      <td>0.75</td>\n",
       "      <td>0.0896</td>\n",
       "      <td>183</td>\n",
       "    </tr>\n",
       "    <tr>\n",
       "      <th>16635</th>\n",
       "      <td>2012-11-30 22:00:00</td>\n",
       "      <td>0</td>\n",
       "      <td>1</td>\n",
       "      <td>0.30</td>\n",
       "      <td>0.3333</td>\n",
       "      <td>0.75</td>\n",
       "      <td>0.0000</td>\n",
       "      <td>163</td>\n",
       "    </tr>\n",
       "    <tr>\n",
       "      <th>16636</th>\n",
       "      <td>2012-11-30 23:00:00</td>\n",
       "      <td>0</td>\n",
       "      <td>2</td>\n",
       "      <td>0.30</td>\n",
       "      <td>0.3182</td>\n",
       "      <td>0.75</td>\n",
       "      <td>0.0896</td>\n",
       "      <td>110</td>\n",
       "    </tr>\n",
       "  </tbody>\n",
       "</table>\n",
       "<p>16637 rows × 8 columns</p>\n",
       "</div>"
      ],
      "text/plain": [
       "                 date_hour  holiday  weathersit  temp   atemp   hum  \\\n",
       "0      2011-01-01 00:00:00        0           1  0.24  0.2879  0.81   \n",
       "1      2011-01-01 01:00:00        0           1  0.22  0.2727  0.80   \n",
       "2      2011-01-01 02:00:00        0           1  0.22  0.2727  0.80   \n",
       "3      2011-01-01 03:00:00        0           1  0.24  0.2879  0.75   \n",
       "4      2011-01-01 04:00:00        0           1  0.24  0.2879  0.75   \n",
       "...                    ...      ...         ...   ...     ...   ...   \n",
       "16632  2012-11-30 19:00:00        0           1  0.32  0.3485  0.66   \n",
       "16633  2012-11-30 20:00:00        0           1  0.32  0.3485  0.66   \n",
       "16634  2012-11-30 21:00:00        0           1  0.30  0.3182  0.75   \n",
       "16635  2012-11-30 22:00:00        0           1  0.30  0.3333  0.75   \n",
       "16636  2012-11-30 23:00:00        0           2  0.30  0.3182  0.75   \n",
       "\n",
       "       windspeed  cnt  \n",
       "0         0.0000   16  \n",
       "1         0.0000   40  \n",
       "2         0.0000   32  \n",
       "3         0.0000   13  \n",
       "4         0.0000    1  \n",
       "...          ...  ...  \n",
       "16632     0.0000  377  \n",
       "16633     0.0000  245  \n",
       "16634     0.0896  183  \n",
       "16635     0.0000  163  \n",
       "16636     0.0896  110  \n",
       "\n",
       "[16637 rows x 8 columns]"
      ]
     },
     "execution_count": 2,
     "metadata": {},
     "output_type": "execute_result"
    }
   ],
   "source": [
    "data_train\n"
   ]
  },
  {
   "cell_type": "code",
   "execution_count": 10,
   "id": "b54aaf24",
   "metadata": {},
   "outputs": [
    {
     "data": {
      "image/png": "[encoded data removed]",
      "text/plain": [
       "<Figure size 432x288 with 1 Axes>"
      ]
     },
     "metadata": {
      "needs_background": "light"
     },
     "output_type": "display_data"
    }
   ],
   "source": [
    "sns.boxplot(x=data_train['holiday'], y=data_train['cnt'], data=data_train, color='pink')\n",
    "plt.xlabel('holiday')\n",
    "plt.ylabel('cnt')\n",
    "#plt.title('{} vs. {}'.format(kolom, col))\n",
    "plt.show()"
   ]
  },
  {
   "cell_type": "code",
   "execution_count": 11,
   "id": "09506604",
   "metadata": {},
   "outputs": [
    {
     "data": {
      "image/png": "[encoded data removed]",
      "text/plain": [
       "<Figure size 432x288 with 1 Axes>"
      ]
     },
     "metadata": {
      "needs_background": "light"
     },
     "output_type": "display_data"
    }
   ],
   "source": [
    "sns.boxplot(x=data_train['weathersit'], y=data_train['cnt'], data=data_train, color='pink')\n",
    "plt.xlabel('weathersit')\n",
    "plt.ylabel('cnt')\n",
    "#plt.title('{} vs. {}'.format(kolom, col))\n",
    "plt.show()"
   ]
  },
  {
   "cell_type": "code",
   "execution_count": 12,
   "id": "c4427276",
   "metadata": {},
   "outputs": [
    {
     "data": {
      "image/png": "[encoded data removed]",
      "text/plain": [
       "<Figure size 432x288 with 1 Axes>"
      ]
     },
     "metadata": {
      "needs_background": "light"
     },
     "output_type": "display_data"
    }
   ],
   "source": [
    "sns.boxplot(x=data_train['temp'], y=data_train['cnt'], data=data_train, color='pink')\n",
    "plt.xlabel('temp')\n",
    "plt.ylabel('cnt')\n",
    "#plt.title('{} vs. {}'.format(kolom, col))\n",
    "plt.show()"
   ]
  },
  {
   "cell_type": "code",
   "execution_count": 13,
   "id": "9cb37cf5",
   "metadata": {},
   "outputs": [
    {
     "data": {
      "image/png": "[encoded data removed]",
      "text/plain": [
       "<Figure size 432x288 with 1 Axes>"
      ]
     },
     "metadata": {
      "needs_background": "light"
     },
     "output_type": "display_data"
    }
   ],
   "source": [
    "sns.boxplot(x=data_train['cnt'], y=data_train['temp'], data=data_train, color='pink')\n",
    "plt.xlabel('cnt')\n",
    "plt.ylabel('temp')\n",
    "#plt.title('{} vs. {}'.format(kolom, col))\n",
    "plt.show()"
   ]
  },
  {
   "cell_type": "code",
   "execution_count": 14,
   "id": "67b1f717",
   "metadata": {},
   "outputs": [
    {
     "data": {
      "image/png": "[encoded data removed]",
      "text/plain": [
       "<Figure size 432x288 with 1 Axes>"
      ]
     },
     "metadata": {
      "needs_background": "light"
     },
     "output_type": "display_data"
    }
   ],
   "source": [
    "sns.barplot(x=data_train['holiday'], y=data_train['cnt'], data=data_train, color='pink')\n",
    "plt.xlabel('holiday')\n",
    "plt.ylabel('cnt')\n",
    "#plt.title('{} vs. {}'.format(kolom, col))\n",
    "plt.show()"
   ]
  },
  {
   "cell_type": "code",
   "execution_count": 15,
   "id": "2877afa4",
   "metadata": {},
   "outputs": [
    {
     "data": {
      "image/png": "[encoded data removed]",
      "text/plain": [
       "<Figure size 432x288 with 1 Axes>"
      ]
     },
     "metadata": {
      "needs_background": "light"
     },
     "output_type": "display_data"
    }
   ],
   "source": [
    "sns.barplot(x=data_train['temp'], y=data_train['cnt'], data=data_train, color='pink')\n",
    "plt.xlabel('temp')\n",
    "plt.ylabel('cnt')\n",
    "#plt.title('{} vs. {}'.format(kolom, col))\n",
    "plt.show()"
   ]
  },
  {
   "cell_type": "code",
   "execution_count": 16,
   "id": "38ac005c",
   "metadata": {},
   "outputs": [
    {
     "data": {
      "image/png": "[encoded data removed]",
      "text/plain": [
       "<Figure size 432x288 with 1 Axes>"
      ]
     },
     "metadata": {
      "needs_background": "light"
     },
     "output_type": "display_data"
    }
   ],
   "source": [
    "sns.barplot(x=data_train['weathersit'], y=data_train['cnt'], data=data_train, color='pink')\n",
    "plt.xlabel('weathersit')\n",
    "plt.ylabel('cnt')\n",
    "#plt.title('{} vs. {}'.format(kolom, col))\n",
    "plt.show()"
   ]
  },
  {
   "cell_type": "code",
   "execution_count": 17,
   "id": "33062318",
   "metadata": {},
   "outputs": [],
   "source": [
    "def barplots(df, kolom):\n",
    "    \"\"\"\n",
    "    Maakt een aantal bar plots gelijk aan het aantal kolommen\n",
    "    in de Dataframe. De bar is tegen één specifieke kolom\n",
    "    opgezet, om de verdeling t.o.v. die kolom te tonen.\n",
    "\n",
    "    Parameters:\n",
    "    ----------------\n",
    "    df : Pandas DataFrame\n",
    "        Een pandas DataFrame met kolommen waarvan\n",
    "        je de verdeling wilt onderzoeken.\n",
    "\n",
    "    kolom : str\n",
    "        De naam van de kolom waarbij de verdeling\n",
    "        bekeken word, ten opzichte van de andere kolommen.\n",
    "\n",
    "    Returns:\n",
    "    ---------------\n",
    "    None :\n",
    "        In plaats van iets te returnen laat\n",
    "        de functie meerdere barplots zien.\n",
    "    \"\"\"\n",
    "\n",
    "    # For-loop om elke kolom een eigen barplot te geven\n",
    "    for col in df.columns:\n",
    "        # if-statement om te voorkomen dat de\n",
    "        # kolom-parameter ook een barplot krijgt\n",
    "        if col != kolom:\n",
    "            # Zetten van de grootte van de plot\n",
    "            plt.subplots(figsize=(15, 5))\n",
    "\n",
    "            # Maken en benoemen van de assen van de barplot\n",
    "            sns.barplot(x=col, y=kolom,\n",
    "                        data=df, color= 'skyblue')\n",
    "            plt.xlabel(col)\n",
    "            plt.ylabel(kolom)\n",
    "            plt.title('{} vs. {}'.format(col, kolom))\n",
    "            plt.show()\n"
   ]
  },
  {
   "cell_type": "code",
   "execution_count": null,
   "id": "48844f16",
   "metadata": {},
   "outputs": [],
   "source": [
    "barplots(data_train, 'cnt')"
   ]
  },
  {
   "cell_type": "code",
   "execution_count": 7,
   "id": "cc980a51",
   "metadata": {},
   "outputs": [],
   "source": [
    "def boxplots(df, kolom):\n",
    "    \"\"\"\n",
    "    Maakt een aantal box plots gelijk aan het aantal kolommen\n",
    "    in de Dataframe. De box zijn tegen één specifieke kolom\n",
    "    opgezet, om de verdeling t.o.v. die kolom te tonen.\n",
    "\n",
    "    Parameters:\n",
    "    ----------------\n",
    "    df : Pandas DataFrame\n",
    "        Een pandas DataFrame met kolommen waarvan je\n",
    "        de verdeling wilt onderzoeken.\n",
    "\n",
    "    kolom : str\n",
    "        De naam van de kolom waarbij de verdeling bekeken\n",
    "        word, ten opzichte van de andere kolommen.\n",
    "\n",
    "    Returns:\n",
    "    ---------------\n",
    "    None :\n",
    "        In plaats van iets te returnen laat de\n",
    "        functie meerdere boxplots zien.\n",
    "    \"\"\"\n",
    "\n",
    "    # For-loop om elke kolom een eigen boxplot te geven\n",
    "    for col in df.columns:\n",
    "        # if-statement om te voorkomen dat de\n",
    "        # kolom-parameter ook een boxplot krijgt\n",
    "        if col != kolom:\n",
    "            # Zetten van de grootte van de plot\n",
    "            plt.subplots(figsize=(15, 5))\n",
    "\n",
    "            # Maken en benoemen van de assen van de boxplots\n",
    "            sns.boxplot(x=kolom, y=col,\n",
    "                        data=df, color='pink')\n",
    "            plt.xlabel(kolom)\n",
    "            plt.ylabel(col)\n",
    "            plt.title('{} vs. {}'.format(kolom, col))\n",
    "            plt.show()\n"
   ]
  },
  {
   "cell_type": "code",
   "execution_count": 8,
   "id": "d1517cfc",
   "metadata": {},
   "outputs": [
    {
     "name": "stderr",
     "output_type": "stream",
     "text": [
      "\n",
      "KeyboardInterrupt\n",
      "\n"
     ]
    },
    {
     "name": "stdout",
     "output_type": "stream",
     "text": [
      "Error in callback <function flush_figures at 0x0000024C7157E1F0> (for post_execute):\n"
     ]
    },
    {
     "name": "stderr",
     "output_type": "stream",
     "text": [
      "\n",
      "KeyboardInterrupt\n",
      "\n"
     ]
    }
   ],
   "source": [
    "boxplots(data_train, 'cnt')"
   ]
  }
 ],
 "metadata": {
  "kernelspec": {
   "display_name": "Python 3 (ipykernel)",
   "language": "python",
   "name": "python3"
  },
  "language_info": {
   "codemirror_mode": {
    "name": "ipython",
    "version": 3
   },
   "file_extension": ".py",
   "mimetype": "text/x-python",
   "name": "python",
   "nbconvert_exporter": "python",
   "pygments_lexer": "ipython3",
   "version": "3.9.12"
  }
 },
 "nbformat": 4,
 "nbformat_minor": 5
}
