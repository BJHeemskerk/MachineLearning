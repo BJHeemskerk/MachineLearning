{
 "cells": [
  {
   "cell_type": "code",
   "execution_count": null,
   "id": "eb1587d9",
   "metadata": {},
   "outputs": [],
   "source": [
    "# Index naar datetime\n",
    "df_trend.index = pd.to_datetime(df_trend.index, format='%Y-%m-%d %H:%M:%S')  \n",
    "df_trend = df_trend.asfreq('H')  \n",
    "\n",
    "# Geen missende waardes\n",
    "df_trend['cnt'] = df_trend['cnt'].interpolate(method='linear', limit_direction='both')\n",
    "\n",
    "# Linear regression om de trendlijn te maken\n",
    "X = pd.to_numeric(df_trend.index.astype(int) / 1e9).values.reshape(-1, 1)\n",
    "y = df_trend['cnt'].values\n",
    "trendmodel = LinearRegression().fit(X, y)\n",
    "\n",
    "# trendlijn voorspellen\n",
    "trendline = trendmodel.predict(X)\n",
    "\n",
    "# Originele timeseries plotten met trendlijn\n",
    "plt.figure(figsize=(12, 6))\n",
    "plt.plot(df_trend['cnt'], label='Original timeseries')\n",
    "plt.plot(df_trend.index, trendline, label='Trendline', color='red')\n",
    "plt.legend()\n",
    "plt.title('Timeseries and Trendline')\n",
    "plt.show()"
   ]
  },
  {
   "cell_type": "markdown",
   "id": "c264f650",
   "metadata": {},
   "source": [
    "Na het nader bestuderen van de overige kolommen in de dataset is het opvallend dat bij de dagen met hoge windsnelheden niet alleen sprake is van hoge waarden voor windsnelheid, maar ook de gevoelstemperatuur is laag. Dit lijkt logisch gezien een hoge windsnelheid de gevoelstemperatuur lager zou maken. Ook zijn er een aantal rijen waar aangegeven word dat er regenachtige weersomstandigheden zijn.\n",
    "\n",
    "Dit kan aangeven dat de outliers in de windspeed gerelateerd zijn aan dagen met onaangename weersomstandigheden, zoals regen, onweer of zware bewolking. Gezien de gevoelstemperatuur over het algemeen laag ligt, en sommige rijen regen/onweer/zware bewolking aangeven, lijkt het er op dat deze outliers een natuurlijke afwijking in de data vertegenwoordigen. \n",
    "\n",
    "Daarom beargumenteren wij dat we deze outliers niet verwijderen. De impact op de algemene betrouwbaarheid is vrij beperkt. De rijen met outliers representeren slechts 1,3% van de data. Deze uitschieters lijken eerder te worden veroorzaakt door uitzonderlijke weersomstandigheden, en hun invloed op de totale trends van de dataset lijkt in dit contextuele licht minder belangrijk."
   ]
  }
 ],
 "metadata": {
  "kernelspec": {
   "display_name": "Python 3 (ipykernel)",
   "language": "python",
   "name": "python3"
  },
  "language_info": {
   "codemirror_mode": {
    "name": "ipython",
    "version": 3
   },
   "file_extension": ".py",
   "mimetype": "text/x-python",
   "name": "python",
   "nbconvert_exporter": "python",
   "pygments_lexer": "ipython3",
   "version": "3.9.12"
  }
 },
 "nbformat": 4,
 "nbformat_minor": 5
}
