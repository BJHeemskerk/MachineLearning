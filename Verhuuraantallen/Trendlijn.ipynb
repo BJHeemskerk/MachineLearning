{
 "cells": [
  {
   "cell_type": "code",
   "execution_count": null,
   "id": "eb1587d9",
   "metadata": {},
   "outputs": [],
   "source": [
    "# Index naar datetime\n",
    "df_trend.index = pd.to_datetime(df_trend.index, format='%Y-%m-%d %H:%M:%S')  \n",
    "df_trend = df_trend.asfreq('H')  \n",
    "\n",
    "# Geen missende waardes\n",
    "df_trend['cnt'] = df_trend['cnt'].interpolate(method='linear', limit_direction='both')\n",
    "\n",
    "# Linear regression om de trendlijn te maken\n",
    "X = pd.to_numeric(df_trend.index.astype(int) / 1e9).values.reshape(-1, 1)\n",
    "y = df_trend['cnt'].values\n",
    "trendmodel = LinearRegression().fit(X, y)\n",
    "\n",
    "# trendlijn voorspellen\n",
    "trendline = trendmodel.predict(X)\n",
    "\n",
    "# Originele timeseries plotten met trendlijn\n",
    "plt.figure(figsize=(12, 6))\n",
    "plt.plot(df_trend['cnt'], label='Original timeseries')\n",
    "plt.plot(df_trend.index, trendline, label='Trendline', color='red')\n",
    "plt.legend()\n",
    "plt.title('Timeseries and Trendline')\n",
    "plt.show()"
   ]
  }
 ],
 "metadata": {
  "kernelspec": {
   "display_name": "Python 3 (ipykernel)",
   "language": "python",
   "name": "python3"
  },
  "language_info": {
   "codemirror_mode": {
    "name": "ipython",
    "version": 3
   },
   "file_extension": ".py",
   "mimetype": "text/x-python",
   "name": "python",
   "nbconvert_exporter": "python",
   "pygments_lexer": "ipython3",
   "version": "3.9.12"
  }
 },
 "nbformat": 4,
 "nbformat_minor": 5
}
