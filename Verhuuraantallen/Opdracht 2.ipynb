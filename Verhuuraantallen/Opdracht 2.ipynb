{
 "cells": [
  {
   "cell_type": "markdown",
   "id": "2866f011",
   "metadata": {},
   "source": [
    "# ***Voorspellen van Verhuuraantallen*** \n",
    "\n",
    "Teamleden:\n",
    "- Busse Heemskerk\n",
    "- Declan van den Hoek\n",
    "- Isa Dijkstra\n",
    "\n",
    "In dit notebook worden er, aan de hand van een train dataset, verschillende Machine Learning modellen opgesteld om de meest accurate manier te vinden om diabetes te voorspellen. Voor het project hebben we gewerkt in [GitHub](https://github.com/BJHeemskerk/MachineLearning), om makkelijk de bestanden te delen.\n",
    "\n",
    "## ***Inhoudsopgave*** <a name='begin'></a>\n",
    "\n",
    "1. [H1: Explorative Data Analysis](#h1)"
   ]
  },
  {
   "cell_type": "code",
   "execution_count": 46,
   "id": "412cd582",
   "metadata": {},
   "outputs": [],
   "source": [
    "import pandas as pd\n",
    "import numpy as np\n",
    "import matplotlib.pyplot as plt\n",
    "import seaborn as sns\n",
    "\n",
    "data_test = pd.read_csv('test.csv', sep = ',')\n",
    "data_train = pd.read_csv('train.csv', sep = ',')"
   ]
  },
  {
   "cell_type": "code",
   "execution_count": 47,
   "id": "8b10e58b",
   "metadata": {},
   "outputs": [
    {
     "data": {
      "text/html": [
       "<div>\n",
       "<style scoped>\n",
       "    .dataframe tbody tr th:only-of-type {\n",
       "        vertical-align: middle;\n",
       "    }\n",
       "\n",
       "    .dataframe tbody tr th {\n",
       "        vertical-align: top;\n",
       "    }\n",
       "\n",
       "    .dataframe thead th {\n",
       "        text-align: right;\n",
       "    }\n",
       "</style>\n",
       "<table border=\"1\" class=\"dataframe\">\n",
       "  <thead>\n",
       "    <tr style=\"text-align: right;\">\n",
       "      <th></th>\n",
       "      <th>date_hour</th>\n",
       "      <th>holiday</th>\n",
       "      <th>weathersit</th>\n",
       "      <th>temp</th>\n",
       "      <th>atemp</th>\n",
       "      <th>hum</th>\n",
       "      <th>windspeed</th>\n",
       "      <th>cnt</th>\n",
       "    </tr>\n",
       "  </thead>\n",
       "  <tbody>\n",
       "    <tr>\n",
       "      <th>0</th>\n",
       "      <td>2011-01-01 00:00:00</td>\n",
       "      <td>0</td>\n",
       "      <td>1</td>\n",
       "      <td>0.24</td>\n",
       "      <td>0.2879</td>\n",
       "      <td>0.81</td>\n",
       "      <td>0.0</td>\n",
       "      <td>16</td>\n",
       "    </tr>\n",
       "    <tr>\n",
       "      <th>1</th>\n",
       "      <td>2011-01-01 01:00:00</td>\n",
       "      <td>0</td>\n",
       "      <td>1</td>\n",
       "      <td>0.22</td>\n",
       "      <td>0.2727</td>\n",
       "      <td>0.80</td>\n",
       "      <td>0.0</td>\n",
       "      <td>40</td>\n",
       "    </tr>\n",
       "    <tr>\n",
       "      <th>2</th>\n",
       "      <td>2011-01-01 02:00:00</td>\n",
       "      <td>0</td>\n",
       "      <td>1</td>\n",
       "      <td>0.22</td>\n",
       "      <td>0.2727</td>\n",
       "      <td>0.80</td>\n",
       "      <td>0.0</td>\n",
       "      <td>32</td>\n",
       "    </tr>\n",
       "    <tr>\n",
       "      <th>3</th>\n",
       "      <td>2011-01-01 03:00:00</td>\n",
       "      <td>0</td>\n",
       "      <td>1</td>\n",
       "      <td>0.24</td>\n",
       "      <td>0.2879</td>\n",
       "      <td>0.75</td>\n",
       "      <td>0.0</td>\n",
       "      <td>13</td>\n",
       "    </tr>\n",
       "    <tr>\n",
       "      <th>4</th>\n",
       "      <td>2011-01-01 04:00:00</td>\n",
       "      <td>0</td>\n",
       "      <td>1</td>\n",
       "      <td>0.24</td>\n",
       "      <td>0.2879</td>\n",
       "      <td>0.75</td>\n",
       "      <td>0.0</td>\n",
       "      <td>1</td>\n",
       "    </tr>\n",
       "  </tbody>\n",
       "</table>\n",
       "</div>"
      ],
      "text/plain": [
       "             date_hour  holiday  weathersit  temp   atemp   hum  windspeed  \\\n",
       "0  2011-01-01 00:00:00        0           1  0.24  0.2879  0.81        0.0   \n",
       "1  2011-01-01 01:00:00        0           1  0.22  0.2727  0.80        0.0   \n",
       "2  2011-01-01 02:00:00        0           1  0.22  0.2727  0.80        0.0   \n",
       "3  2011-01-01 03:00:00        0           1  0.24  0.2879  0.75        0.0   \n",
       "4  2011-01-01 04:00:00        0           1  0.24  0.2879  0.75        0.0   \n",
       "\n",
       "   cnt  \n",
       "0   16  \n",
       "1   40  \n",
       "2   32  \n",
       "3   13  \n",
       "4    1  "
      ]
     },
     "execution_count": 47,
     "metadata": {},
     "output_type": "execute_result"
    }
   ],
   "source": [
    "data_train.head()"
   ]
  },
  {
   "cell_type": "markdown",
   "id": "debd46f9",
   "metadata": {},
   "source": [
    "## **H1: Explorative Data Analysis**<a name='h1'></a>\n",
    "\n",
    "De minimale vereisten voor Machine Learning met Scikit Learn zijn:\n",
    "\n",
    "- De data mag geen missende waardes hebben\n",
    "- De data moet bestaan uit numerieke waardes\n",
    "- De data moet in een dataframe staan\n",
    "\n",
    "Omdat de data is ingelezen via Pandas staat het al in een Pandas DataFrame, hierdoor kan gebruik gemaakt worden van de .info() methode van DataFrames om te kijken naar missende waarden en de datatypen."
   ]
  },
  {
   "cell_type": "code",
   "execution_count": 48,
   "id": "23800c83",
   "metadata": {},
   "outputs": [
    {
     "name": "stdout",
     "output_type": "stream",
     "text": [
      "<class 'pandas.core.frame.DataFrame'>\n",
      "RangeIndex: 16637 entries, 0 to 16636\n",
      "Data columns (total 8 columns):\n",
      " #   Column      Non-Null Count  Dtype  \n",
      "---  ------      --------------  -----  \n",
      " 0   date_hour   16637 non-null  object \n",
      " 1   holiday     16637 non-null  int64  \n",
      " 2   weathersit  16637 non-null  int64  \n",
      " 3   temp        16637 non-null  float64\n",
      " 4   atemp       16637 non-null  float64\n",
      " 5   hum         16637 non-null  float64\n",
      " 6   windspeed   16637 non-null  float64\n",
      " 7   cnt         16637 non-null  int64  \n",
      "dtypes: float64(4), int64(3), object(1)\n",
      "memory usage: 1.0+ MB\n"
     ]
    }
   ],
   "source": [
    "data_train.info()"
   ]
  },
  {
   "cell_type": "code",
   "execution_count": 49,
   "id": "b9867d73",
   "metadata": {},
   "outputs": [
    {
     "data": {
      "text/html": [
       "<div>\n",
       "<style scoped>\n",
       "    .dataframe tbody tr th:only-of-type {\n",
       "        vertical-align: middle;\n",
       "    }\n",
       "\n",
       "    .dataframe tbody tr th {\n",
       "        vertical-align: top;\n",
       "    }\n",
       "\n",
       "    .dataframe thead th {\n",
       "        text-align: right;\n",
       "    }\n",
       "</style>\n",
       "<table border=\"1\" class=\"dataframe\">\n",
       "  <thead>\n",
       "    <tr style=\"text-align: right;\">\n",
       "      <th></th>\n",
       "      <th>holiday</th>\n",
       "      <th>weathersit</th>\n",
       "      <th>temp</th>\n",
       "      <th>atemp</th>\n",
       "      <th>hum</th>\n",
       "      <th>windspeed</th>\n",
       "      <th>cnt</th>\n",
       "    </tr>\n",
       "  </thead>\n",
       "  <tbody>\n",
       "    <tr>\n",
       "      <th>count</th>\n",
       "      <td>16637.000000</td>\n",
       "      <td>16637.000000</td>\n",
       "      <td>16637.000000</td>\n",
       "      <td>16637.000000</td>\n",
       "      <td>16637.000000</td>\n",
       "      <td>16637.000000</td>\n",
       "      <td>16637.000000</td>\n",
       "    </tr>\n",
       "    <tr>\n",
       "      <th>mean</th>\n",
       "      <td>0.028671</td>\n",
       "      <td>1.415580</td>\n",
       "      <td>0.504745</td>\n",
       "      <td>0.482608</td>\n",
       "      <td>0.624756</td>\n",
       "      <td>0.190310</td>\n",
       "      <td>190.477009</td>\n",
       "    </tr>\n",
       "    <tr>\n",
       "      <th>std</th>\n",
       "      <td>0.166885</td>\n",
       "      <td>0.637298</td>\n",
       "      <td>0.192369</td>\n",
       "      <td>0.171557</td>\n",
       "      <td>0.193227</td>\n",
       "      <td>0.121915</td>\n",
       "      <td>182.026755</td>\n",
       "    </tr>\n",
       "    <tr>\n",
       "      <th>min</th>\n",
       "      <td>0.000000</td>\n",
       "      <td>1.000000</td>\n",
       "      <td>0.020000</td>\n",
       "      <td>0.000000</td>\n",
       "      <td>0.000000</td>\n",
       "      <td>0.000000</td>\n",
       "      <td>1.000000</td>\n",
       "    </tr>\n",
       "    <tr>\n",
       "      <th>25%</th>\n",
       "      <td>0.000000</td>\n",
       "      <td>1.000000</td>\n",
       "      <td>0.340000</td>\n",
       "      <td>0.333300</td>\n",
       "      <td>0.470000</td>\n",
       "      <td>0.104500</td>\n",
       "      <td>41.000000</td>\n",
       "    </tr>\n",
       "    <tr>\n",
       "      <th>50%</th>\n",
       "      <td>0.000000</td>\n",
       "      <td>1.000000</td>\n",
       "      <td>0.520000</td>\n",
       "      <td>0.500000</td>\n",
       "      <td>0.620000</td>\n",
       "      <td>0.194000</td>\n",
       "      <td>143.000000</td>\n",
       "    </tr>\n",
       "    <tr>\n",
       "      <th>75%</th>\n",
       "      <td>0.000000</td>\n",
       "      <td>2.000000</td>\n",
       "      <td>0.660000</td>\n",
       "      <td>0.621200</td>\n",
       "      <td>0.780000</td>\n",
       "      <td>0.253700</td>\n",
       "      <td>282.000000</td>\n",
       "    </tr>\n",
       "    <tr>\n",
       "      <th>max</th>\n",
       "      <td>1.000000</td>\n",
       "      <td>4.000000</td>\n",
       "      <td>1.000000</td>\n",
       "      <td>1.000000</td>\n",
       "      <td>1.000000</td>\n",
       "      <td>0.850700</td>\n",
       "      <td>977.000000</td>\n",
       "    </tr>\n",
       "  </tbody>\n",
       "</table>\n",
       "</div>"
      ],
      "text/plain": [
       "            holiday    weathersit          temp         atemp           hum  \\\n",
       "count  16637.000000  16637.000000  16637.000000  16637.000000  16637.000000   \n",
       "mean       0.028671      1.415580      0.504745      0.482608      0.624756   \n",
       "std        0.166885      0.637298      0.192369      0.171557      0.193227   \n",
       "min        0.000000      1.000000      0.020000      0.000000      0.000000   \n",
       "25%        0.000000      1.000000      0.340000      0.333300      0.470000   \n",
       "50%        0.000000      1.000000      0.520000      0.500000      0.620000   \n",
       "75%        0.000000      2.000000      0.660000      0.621200      0.780000   \n",
       "max        1.000000      4.000000      1.000000      1.000000      1.000000   \n",
       "\n",
       "          windspeed           cnt  \n",
       "count  16637.000000  16637.000000  \n",
       "mean       0.190310    190.477009  \n",
       "std        0.121915    182.026755  \n",
       "min        0.000000      1.000000  \n",
       "25%        0.104500     41.000000  \n",
       "50%        0.194000    143.000000  \n",
       "75%        0.253700    282.000000  \n",
       "max        0.850700    977.000000  "
      ]
     },
     "execution_count": 49,
     "metadata": {},
     "output_type": "execute_result"
    }
   ],
   "source": [
    "data_train.describe()"
   ]
  },
  {
   "cell_type": "markdown",
   "id": "2fbfb824",
   "metadata": {},
   "source": [
    "### ***Time-Series visualisaties***\n",
    "\n",
    "Eerst zullen er de benodigde functies worden aangemaakt, om op die manier gemakkelijk de verschillende nieuwe time-series kolommen aan te maken."
   ]
  },
  {
   "cell_type": "code",
   "execution_count": 68,
   "id": "b38c2751",
   "metadata": {},
   "outputs": [],
   "source": [
    "def data_voorbereiding(base_df, dt_kol):\n",
    "    \"\"\"\n",
    "    Een functie om een csv in te lezen en verschillende\n",
    "    toepassingen uit te voeren op aanwezige timeseries\n",
    "    data.\n",
    "\n",
    "    Parameters:\n",
    "    ----------\n",
    "    base_df : pd.DataFrame\n",
    "        De naam van het dataframe waar de extra\n",
    "        timeseries kolommen worden gemaakt.\n",
    "    \n",
    "    dt_kol : str\n",
    "        De naam van de kolom met de Timeseries data.\n",
    "\n",
    "    Returns:\n",
    "    ----------\n",
    "    df : pd.DataFrame\n",
    "        Een pandas.DataFrame waarin verschillende extra\n",
    "        kolommen zijn toegevoegd waarin timeseries is\n",
    "        toegepast.\n",
    "    \"\"\"\n",
    "    \n",
    "    # Omzetten van date_hour naar datetime\n",
    "    df = base_df.copy()\n",
    "    df[f'{dt_kol}'] = pd.to_datetime(df[f'{dt_kol}'])\n",
    "\n",
    "    # Voeg nieuwe kolommen toe\n",
    "    df['Jaar'] = df[f'{dt_kol}'].dt.year\n",
    "    df['Maand'] = df[f'{dt_kol}'].dt.month\n",
    "    df['Week'] = df[f'{dt_kol}'].dt.isocalendar().week\n",
    "    df['Uur'] = df[f'{dt_kol}'].dt.hour\n",
    "\n",
    "    return df"
   ]
  },
  {
   "cell_type": "markdown",
   "id": "bd4d4656",
   "metadata": {},
   "source": [
    "Deze functies zullen helpen om nieuwe kolommen toe te voegen aan data_train, en later ook aan data_test."
   ]
  },
  {
   "cell_type": "code",
   "execution_count": 51,
   "id": "7c32269d",
   "metadata": {},
   "outputs": [
    {
     "data": {
      "text/html": [
       "<div>\n",
       "<style scoped>\n",
       "    .dataframe tbody tr th:only-of-type {\n",
       "        vertical-align: middle;\n",
       "    }\n",
       "\n",
       "    .dataframe tbody tr th {\n",
       "        vertical-align: top;\n",
       "    }\n",
       "\n",
       "    .dataframe thead th {\n",
       "        text-align: right;\n",
       "    }\n",
       "</style>\n",
       "<table border=\"1\" class=\"dataframe\">\n",
       "  <thead>\n",
       "    <tr style=\"text-align: right;\">\n",
       "      <th></th>\n",
       "      <th>date_hour</th>\n",
       "      <th>holiday</th>\n",
       "      <th>weathersit</th>\n",
       "      <th>temp</th>\n",
       "      <th>atemp</th>\n",
       "      <th>hum</th>\n",
       "      <th>windspeed</th>\n",
       "      <th>cnt</th>\n",
       "      <th>Jaar</th>\n",
       "      <th>Uur</th>\n",
       "    </tr>\n",
       "  </thead>\n",
       "  <tbody>\n",
       "    <tr>\n",
       "      <th>0</th>\n",
       "      <td>2011-01-01 00:00:00</td>\n",
       "      <td>0</td>\n",
       "      <td>1</td>\n",
       "      <td>0.24</td>\n",
       "      <td>0.2879</td>\n",
       "      <td>0.81</td>\n",
       "      <td>0.0</td>\n",
       "      <td>16</td>\n",
       "      <td>2011</td>\n",
       "      <td>0</td>\n",
       "    </tr>\n",
       "    <tr>\n",
       "      <th>1</th>\n",
       "      <td>2011-01-01 01:00:00</td>\n",
       "      <td>0</td>\n",
       "      <td>1</td>\n",
       "      <td>0.22</td>\n",
       "      <td>0.2727</td>\n",
       "      <td>0.80</td>\n",
       "      <td>0.0</td>\n",
       "      <td>40</td>\n",
       "      <td>2011</td>\n",
       "      <td>1</td>\n",
       "    </tr>\n",
       "    <tr>\n",
       "      <th>2</th>\n",
       "      <td>2011-01-01 02:00:00</td>\n",
       "      <td>0</td>\n",
       "      <td>1</td>\n",
       "      <td>0.22</td>\n",
       "      <td>0.2727</td>\n",
       "      <td>0.80</td>\n",
       "      <td>0.0</td>\n",
       "      <td>32</td>\n",
       "      <td>2011</td>\n",
       "      <td>2</td>\n",
       "    </tr>\n",
       "    <tr>\n",
       "      <th>3</th>\n",
       "      <td>2011-01-01 03:00:00</td>\n",
       "      <td>0</td>\n",
       "      <td>1</td>\n",
       "      <td>0.24</td>\n",
       "      <td>0.2879</td>\n",
       "      <td>0.75</td>\n",
       "      <td>0.0</td>\n",
       "      <td>13</td>\n",
       "      <td>2011</td>\n",
       "      <td>3</td>\n",
       "    </tr>\n",
       "    <tr>\n",
       "      <th>4</th>\n",
       "      <td>2011-01-01 04:00:00</td>\n",
       "      <td>0</td>\n",
       "      <td>1</td>\n",
       "      <td>0.24</td>\n",
       "      <td>0.2879</td>\n",
       "      <td>0.75</td>\n",
       "      <td>0.0</td>\n",
       "      <td>1</td>\n",
       "      <td>2011</td>\n",
       "      <td>4</td>\n",
       "    </tr>\n",
       "  </tbody>\n",
       "</table>\n",
       "</div>"
      ],
      "text/plain": [
       "            date_hour  holiday  weathersit  temp   atemp   hum  windspeed  \\\n",
       "0 2011-01-01 00:00:00        0           1  0.24  0.2879  0.81        0.0   \n",
       "1 2011-01-01 01:00:00        0           1  0.22  0.2727  0.80        0.0   \n",
       "2 2011-01-01 02:00:00        0           1  0.22  0.2727  0.80        0.0   \n",
       "3 2011-01-01 03:00:00        0           1  0.24  0.2879  0.75        0.0   \n",
       "4 2011-01-01 04:00:00        0           1  0.24  0.2879  0.75        0.0   \n",
       "\n",
       "   cnt  Jaar  Uur  \n",
       "0   16  2011    0  \n",
       "1   40  2011    1  \n",
       "2   32  2011    2  \n",
       "3   13  2011    3  \n",
       "4    1  2011    4  "
      ]
     },
     "execution_count": 51,
     "metadata": {},
     "output_type": "execute_result"
    }
   ],
   "source": [
    "df = data_voorbereiding(data_train, 'date_hour')\n",
    "df.head()"
   ]
  },
  {
   "cell_type": "code",
   "execution_count": 52,
   "id": "860f267e",
   "metadata": {},
   "outputs": [
    {
     "name": "stdout",
     "output_type": "stream",
     "text": [
      "<class 'pandas.core.frame.DataFrame'>\n",
      "RangeIndex: 16637 entries, 0 to 16636\n",
      "Data columns (total 10 columns):\n",
      " #   Column      Non-Null Count  Dtype         \n",
      "---  ------      --------------  -----         \n",
      " 0   date_hour   16637 non-null  datetime64[ns]\n",
      " 1   holiday     16637 non-null  int64         \n",
      " 2   weathersit  16637 non-null  int64         \n",
      " 3   temp        16637 non-null  float64       \n",
      " 4   atemp       16637 non-null  float64       \n",
      " 5   hum         16637 non-null  float64       \n",
      " 6   windspeed   16637 non-null  float64       \n",
      " 7   cnt         16637 non-null  int64         \n",
      " 8   Jaar        16637 non-null  int32         \n",
      " 9   Uur         16637 non-null  int32         \n",
      "dtypes: datetime64[ns](1), float64(4), int32(2), int64(3)\n",
      "memory usage: 1.1 MB\n"
     ]
    }
   ],
   "source": [
    "df.info()"
   ]
  },
  {
   "cell_type": "markdown",
   "id": "e32e8e6c",
   "metadata": {},
   "source": [
    "### ***Time-Series Visualiseren***\n",
    "\n",
    "Nu wordt er een class gemaakt die het mogelijk maakt om snel en eenvoudig verschillende grafieken aan te maken."
   ]
  },
  {
   "cell_type": "code",
   "execution_count": 53,
   "id": "73e5dafc",
   "metadata": {},
   "outputs": [],
   "source": [
    "class Grafieken:\n",
    "    \"\"\"\n",
    "    Een class voor eenvoudig visualiseren met Matplotlib\n",
    "    en seaborn.\n",
    "\n",
    "    Parameters:\n",
    "    ----------\n",
    "    df : pandas.DataFrame\n",
    "        Een pandas.DataFrame die data bevat om mee te\n",
    "        visualiseren.\n",
    "    \"\"\"\n",
    "\n",
    "    def __init__(self, df):\n",
    "        \"\"\"\n",
    "        De constructor voor de Grafieken class\n",
    "\n",
    "        Parameters:\n",
    "        ----------\n",
    "        df : pandas.DataFrame\n",
    "            Een pandas.DataFrame die data bevat om mee te\n",
    "            visualiseren.\n",
    "        \"\"\"\n",
    "        # Aanmaken self.df\n",
    "        self.df = df"
   ]
  },
  {
   "cell_type": "code",
   "execution_count": 54,
   "id": "c538b984",
   "metadata": {},
   "outputs": [
    {
     "data": {
      "image/png": "[encoded data removed]",
      "text/plain": [
       "<Figure size 1500x500 with 1 Axes>"
      ]
     },
     "metadata": {},
     "output_type": "display_data"
    }
   ],
   "source": [
    "plt.subplots(figsize=(15, 5))\n",
    "sns.barplot(data=df, x='Jaar', y='cnt',\n",
    "            hue='weathersit', errorbar=None,\n",
    "            palette='deep')\n",
    "\n",
    "plt.title('Verhuuraantallen per Jaar')\n",
    "plt.ylabel('Verhuuraantallen')\n",
    "plt.legend(title='Weerssituatie')\n",
    "plt.show()"
   ]
  },
  {
   "cell_type": "markdown",
   "id": "88f9ed11",
   "metadata": {},
   "source": [
    "Zoals hierboven te zien is, zijn er in 2012 meer verhuursaantallen. Ook is er heel duidelijk te zien dat er een duidelijk verschil is tussen de verschillende weersituaties. Dat de weersomstandigheden een grote invloed hebben is mogelijk als het te verhuren product gebruikt wordt zonder afdekking van regen of andere neerslag.\n",
    "\n",
    "Bij een weerssituatie van klasse van 1 is er een algemeen hoger verhuur, dit neemt af naarmate je omhoog gaat op de schaal. Hieronder is verduidelijking over de schaal van deze kolom:\n",
    "\n",
    "**weathersit**:\n",
    "1. Helder, licht bewolkt, deels bewolkt\n",
    "2. Mistig , mistig en licht bewolkt\n",
    "3. Lichte sneeuw, lichte regen, lichte regen en onweer, zwaar bewolkt, lichte\n",
    "regen en zwaar bewolkt\n",
    "4. Zware regen, hagel, zware mist, sneeuw.\n",
    "\n",
    "Voor verder onderzoek wordt er nu gekeken naar de verdeling van het verhuur per uur."
   ]
  },
  {
   "cell_type": "code",
   "execution_count": 55,
   "id": "2b7af8e8",
   "metadata": {},
   "outputs": [
    {
     "data": {
      "image/png": "[encoded data removed]",
      "text/plain": [
       "<Figure size 1500x500 with 1 Axes>"
      ]
     },
     "metadata": {},
     "output_type": "display_data"
    }
   ],
   "source": [
    "plt.subplots(figsize=(15, 5))\n",
    "sns.barplot(data=df, x='Uur', y='cnt',\n",
    "            hue='Jaar', errorbar=None,\n",
    "            palette='deep')\n",
    "\n",
    "plt.title('Verhuuraantallen per uur')\n",
    "plt.ylabel('Verhuuraantallen')\n",
    "plt.legend(title='Jaartal')\n",
    "plt.show()"
   ]
  },
  {
   "cell_type": "markdown",
   "id": "2b4ad21e",
   "metadata": {},
   "source": [
    "De grafiek over de verhuuraantallen per uur per jaar geeft ook een duidelijke boodschap. Rond de uren van 6 t/m 8 vindt er een sterke stijging plaats, wat niet heel raar is aangezien de meeste mensen tussen 6 en 8 wakker worden. Rond de uren van 17 en 18 is er ook een gigantische piek, dit kan te verklaren zijn door het eindigen van de gemiddelde werkdag.\n",
    "\n",
    "Ondanks dat de pieken op de spitsuren zitten is het in de tijd van 9 tot en met 16 ook relatief druk qua verhuur. Wat wel opvalt is dat er een duidelijk dalpunt is rond de uren 2 tot en met 5. Met de meeste services zullen producten tussen deze tijd niet meer worden verhuurd, wat ervoor zorgt dat ook dit punt erg opvalt.\n",
    "\n",
    "Om iets meer inzicht te krijgen over het algemene verhuur gedrag zal deze grafiek nagemaakt worden met boxplots, om zo de verdeling en de outliers ook duidelijk te zien."
   ]
  },
  {
   "cell_type": "code",
   "execution_count": 56,
   "id": "0230cf45",
   "metadata": {},
   "outputs": [
    {
     "data": {
      "image/png": "[encoded data removed]",
      "text/plain": [
       "<Figure size 1500x500 with 1 Axes>"
      ]
     },
     "metadata": {},
     "output_type": "display_data"
    }
   ],
   "source": [
    "# Aanmaken van plotgrootte en boxplot\n",
    "plt.subplots(figsize=(15, 5))\n",
    "sns.boxplot(data=df, x='Uur', y='cnt',\n",
    "            hue='Jaar', palette='deep')\n",
    "\n",
    "# Titel en tonen van de grafiek\n",
    "plt.title(f'Verdeling van Verhuuraantallen per uur in 2011 en 2012')\n",
    "plt.ylabel('Verhuuraantallen')\n",
    "plt.legend(title='Jaartal')\n",
    "plt.show()"
   ]
  },
  {
   "cell_type": "markdown",
   "id": "755210a1",
   "metadata": {},
   "source": [
    "Het voordeel aan boxplots is dat er per waarde op de x-as een verdeling wordt getoond. Deze verdeling laten zien waar het gemiddelde ligt en of er outliers aanwezig zijn. Wat opvalt is de afwezigheid van outliers in de drukste uren van het verhuren. Van de tijden 5 tot en met 8 en de tijden 17 tot en met 20 zijn er geen outliers. Verder is het ook opvallend dat er nauwelijks outliers zijn aan de onderkant van de boxplots.\n",
    "\n",
    "Naast de outliers valt het ook op dat niet alleen de totale waarden hoger liggen in 2012, maar ook de mediaan van (bijna) alle boxes ligt boven de 75% percentiel van het voorgaande jaar.\n",
    "\n",
    "Alles bij elkaar zorgt ervoor dat het product uit de transport sector te komen. Met de eerste grafiek is er vanuit te gaan dat deze vorm van transport geen dak of bescherming zal hebben tegen neerslag. De tweede en derde grafiek laten duidelijk zien dat de spitsuren cruciaal zijn voor het verhuurbedrijf. Voor transport is de spitsuren natuurlijk het drukste, wegens alle scholieren en werkende die rond deze tijden actief zijn met het gaan van A naar B. Dit zou een goede verklaring zijn voor hoe de verhuuraantallen reageren op de uren.\n",
    "\n",
    "Als volgende stap worden de correlaties van alle kolommen bekeken ten opzichte van de target kolom."
   ]
  },
  {
   "cell_type": "code",
   "execution_count": 57,
   "id": "d1457a7e",
   "metadata": {},
   "outputs": [
    {
     "data": {
      "image/png": "[encoded data removed]",
      "text/plain": [
       "<Figure size 640x480 with 2 Axes>"
      ]
     },
     "metadata": {},
     "output_type": "display_data"
    }
   ],
   "source": [
    "# Correlatie matrix aanmaken\n",
    "corr = df.corr(method='spearman')\n",
    "\n",
    "# Aanmaken van target variabel\n",
    "target = 'cnt'\n",
    "\n",
    "# Pakken van correlaties target-kolom\n",
    "corr_target = corr[target].drop(target).sort_values(ascending=False)\n",
    "\n",
    "# Heatmap maken en aanpassen\n",
    "sns.heatmap(corr_target.to_frame(target),\n",
    "            annot=True,\n",
    "            linewidths=0.4,\n",
    "            annot_kws={\"size\" : 10},\n",
    "            cmap=\"coolwarm\",\n",
    "            cbar_kws={\"label\" : f\"Correlatie met {target}\"})\n",
    "\n",
    "# Aanpassen titel en tonen heatmap\n",
    "plt.title(f\"Correlatie Heatmap met {target}\")\n",
    "plt.show()\n"
   ]
  },
  {
   "cell_type": "markdown",
   "id": "5d97bfba",
   "metadata": {},
   "source": [
    "Meerendeel van de tijd series kolommen die erbij zijn gezet hebben geen invloed op de verkoop. De kolom 'Uur' is hierin een uitzondering, met een correlatie van 0.51 is dit de sterkst correlerende kolom van de dataset. Dit is waarschijnlijk neer te leggen op de eerder besproken verwachtingen rondom de spitsuren. Ook de kolommen van temperatuur en vochtigheid correleren redelijk met het verhuuraantal."
   ]
  },
  {
   "cell_type": "code",
   "execution_count": 58,
   "id": "5037a288",
   "metadata": {},
   "outputs": [
    {
     "data": {
      "text/html": [
       "<div>\n",
       "<style scoped>\n",
       "    .dataframe tbody tr th:only-of-type {\n",
       "        vertical-align: middle;\n",
       "    }\n",
       "\n",
       "    .dataframe tbody tr th {\n",
       "        vertical-align: top;\n",
       "    }\n",
       "\n",
       "    .dataframe thead th {\n",
       "        text-align: right;\n",
       "    }\n",
       "</style>\n",
       "<table border=\"1\" class=\"dataframe\">\n",
       "  <thead>\n",
       "    <tr style=\"text-align: right;\">\n",
       "      <th></th>\n",
       "      <th>cnt</th>\n",
       "    </tr>\n",
       "    <tr>\n",
       "      <th>date_hour</th>\n",
       "      <th></th>\n",
       "    </tr>\n",
       "  </thead>\n",
       "  <tbody>\n",
       "    <tr>\n",
       "      <th>2011-01-01 00:00:00</th>\n",
       "      <td>16</td>\n",
       "    </tr>\n",
       "    <tr>\n",
       "      <th>2011-01-01 01:00:00</th>\n",
       "      <td>40</td>\n",
       "    </tr>\n",
       "    <tr>\n",
       "      <th>2011-01-01 02:00:00</th>\n",
       "      <td>32</td>\n",
       "    </tr>\n",
       "    <tr>\n",
       "      <th>2011-01-01 03:00:00</th>\n",
       "      <td>13</td>\n",
       "    </tr>\n",
       "    <tr>\n",
       "      <th>2011-01-01 04:00:00</th>\n",
       "      <td>1</td>\n",
       "    </tr>\n",
       "  </tbody>\n",
       "</table>\n",
       "</div>"
      ],
      "text/plain": [
       "                     cnt\n",
       "date_hour               \n",
       "2011-01-01 00:00:00   16\n",
       "2011-01-01 01:00:00   40\n",
       "2011-01-01 02:00:00   32\n",
       "2011-01-01 03:00:00   13\n",
       "2011-01-01 04:00:00    1"
      ]
     },
     "execution_count": 58,
     "metadata": {},
     "output_type": "execute_result"
    }
   ],
   "source": [
    "df_time = df[['date_hour', 'cnt']]\n",
    "df_time = df_time.set_index('date_hour')\n",
    "df_time.head()"
   ]
  },
  {
   "cell_type": "markdown",
   "id": "ef1aba60",
   "metadata": {},
   "source": [
    "---------------"
   ]
  },
  {
   "cell_type": "code",
   "execution_count": 59,
   "id": "b3afd512",
   "metadata": {},
   "outputs": [],
   "source": [
    "df_test = data_voorbereiding(data_test, 'date_hour')\n",
    "df_test.drop('date_hour', axis=1, inplace=True)"
   ]
  },
  {
   "cell_type": "code",
   "execution_count": 60,
   "id": "b51c4138",
   "metadata": {},
   "outputs": [],
   "source": [
    "from sklearn.ensemble import RandomForestRegressor\n",
    "import datetime\n",
    "from sklearn.metrics import mean_squared_error\n",
    "from sklearn.model_selection import KFold\n",
    "from sklearn.model_selection import GridSearchCV\n",
    "from sklearn.model_selection import train_test_split"
   ]
  },
  {
   "cell_type": "code",
   "execution_count": 61,
   "id": "f0cd7c53",
   "metadata": {},
   "outputs": [],
   "source": [
    "def submissie(model, suffix):\n",
    "    \"\"\"\n",
    "    Deze functie maakt de voorspelling op de test dataset\n",
    "    en vormt deze om tot een csv bestand om in te kunnen\n",
    "    leveren op Kaggle.\n",
    "\n",
    "    Parameters:\n",
    "    ----------\n",
    "    model : Machine Learning model\n",
    "        De naam die is gegeven aan het ML-model dat\n",
    "        wordt gebruikt om te voorspellen\n",
    "\n",
    "    suffix : str\n",
    "        De laatste 'tag' voor de naam van het csv\n",
    "        bestand, zodat deze makkelijk te identificeren\n",
    "        is na de submission.\n",
    "\n",
    "    Returns:\n",
    "    ----------\n",
    "    None\n",
    "        In plaats van een return maakt het een bestand\n",
    "        aan in de map Kaggle Submissions. De namen zien\n",
    "        er als volgt uit:\n",
    "\n",
    "    \"\"\"\n",
    "    # Fitten, voorspellen en veranderen naar integer\n",
    "    y_pred = model.fit(X_train, y_train).predict(df_test)\n",
    "    y_pred = y_pred.astype(int)\n",
    "\n",
    "    # Aanmaken df met alleen p_id en Outcome\n",
    "    test_predictions_df = pd.DataFrame(\n",
    "        {'date_hour': data_test['date_hour'],\n",
    "        'cnt': y_pred})\n",
    "    \n",
    "    # Aanmaken van tijd\n",
    "    tijd = datetime.datetime.now().strftime(\"%m%d%H%M%S\")\n",
    "\n",
    "    # Aanmaken csv bestand met timestamp\n",
    "    test_predictions_df.to_csv(\n",
    "        f'Kaggle Submissions/vs_{suffix}_{tijd}.csv',\n",
    "        index=False)\n",
    "    \n",
    "    # print voor conformatie\n",
    "    print(f'vs_{suffix}_{tijd}.csv has been saved!')\n",
    "\n",
    "def model_score(model):\n",
    "    \"\"\"\n",
    "    Een functie die de scores voor een model\n",
    "    berekend en deze toont.\n",
    "\n",
    "    Parameters:\n",
    "    ----------\n",
    "    model : elk ML model\n",
    "    De naam van het gemaakte ML model\n",
    "\n",
    "    Returns:\n",
    "    ----------\n",
    "    f1 : int\n",
    "    De f1 score van het gegeven model\n",
    "    \"\"\"\n",
    "\n",
    "    # Fitten en voorspellen met model\n",
    "    y_pred = model.fit(X_train, y_train).predict(X_test)\n",
    "    rmse = np.sqrt(mean_squared_error(y_test, y_pred))\n",
    "\n",
    "    # Tonen van de resultaten\n",
    "    return print(f'Root Mean Squared Error: {rmse}')\n",
    "\n",
    "def grid_score(estimator, param_grid):\n",
    "    \"\"\"\n",
    "    Een functie die de scores voor een grid search\n",
    "    berekend en deze toont. Hierbij worden ook de\n",
    "    optimale parameters getoont.\n",
    "\n",
    "    Parameters:\n",
    "    ----------\n",
    "    estimator : ML model\n",
    "    Het model waarop de grid search wordt toegepast\n",
    "\n",
    "    param_grid : dict\n",
    "    Een dictionary waarbij de keys parameter namen\n",
    "    zijn van het model en de values verschillende\n",
    "    waarden die de parameter aan kan nemen.\n",
    "\n",
    "    Returns:\n",
    "    ----------\n",
    "    None\n",
    "    Returned twee prints met de optimale parameters\n",
    "    en beste f1 score\n",
    "    \"\"\"\n",
    "\n",
    "    # Uitvoeren van de grid search\n",
    "    gs = GridSearchCV(estimator=estimator,\n",
    "                    param_grid=param_grid,\n",
    "                    cv=cv,\n",
    "                    scoring='neg_root_mean_squared_error',\n",
    "                    n_jobs=-1)\n",
    "    \n",
    "    # Fitten van de grid search\n",
    "    gs.fit(X_train, y_train)\n",
    "\n",
    "    # Tonen van de beste score en parameters\n",
    "    print(f\"Beste RMSE: {abs(gs.best_score_)}\")\n",
    "    print(f\"Beste parameters:\\n{gs.best_params_}\")"
   ]
  },
  {
   "cell_type": "code",
   "execution_count": 62,
   "id": "64d9449b",
   "metadata": {},
   "outputs": [],
   "source": [
    "# Aanmaken SEED voor random_state\n",
    "SEED = 42\n",
    "\n",
    "# Aanmaken van X en y\n",
    "df_train = df.drop(['date_hour'], axis=1)\n",
    "X = df_train.drop('cnt', axis=1)\n",
    "y = df_train['cnt']\n",
    "\n",
    "# Splitten van de data in train en test\n",
    "X_train, X_test, y_train, y_test = train_test_split(X, y, test_size=0.2, random_state=SEED)\n",
    "\n",
    "# Aanmaken van de folds\n",
    "cv = KFold(n_splits=5, shuffle=True, random_state=SEED)"
   ]
  },
  {
   "cell_type": "markdown",
   "id": "40ea3dd5",
   "metadata": {},
   "source": [
    "## ***Random Forest Regressor***\n",
    "\n"
   ]
  },
  {
   "cell_type": "code",
   "execution_count": 63,
   "id": "04282419",
   "metadata": {},
   "outputs": [
    {
     "name": "stdout",
     "output_type": "stream",
     "text": [
      "Root Mean Squared Error: 87.66807740302941\n"
     ]
    }
   ],
   "source": [
    "# Opstellen van Random Forest Regressor model\n",
    "rf = RandomForestRegressor(random_state=SEED,\n",
    "                              n_jobs=-1)\n",
    "\n",
    "# Beoordelen van het model\n",
    "model_score(rf)"
   ]
  },
  {
   "cell_type": "code",
   "execution_count": 64,
   "id": "63ec2100",
   "metadata": {},
   "outputs": [],
   "source": [
    "param_rf = {\n",
    "    'n_estimators': [50, 100, 200],\n",
    "    'max_depth': [5, 10, 20],\n",
    "    'min_samples_leaf': [1, 2, 4]\n",
    "}\n"
   ]
  },
  {
   "cell_type": "code",
   "execution_count": 65,
   "id": "a9a66fb6",
   "metadata": {},
   "outputs": [
    {
     "name": "stdout",
     "output_type": "stream",
     "text": [
      "Beste RMSE: 89.40388176440138\n",
      "Beste parameters:\n",
      "{'max_depth': 10, 'min_samples_leaf': 2, 'n_estimators': 200}\n"
     ]
    }
   ],
   "source": [
    "grid_score(rf, param_rf)"
   ]
  },
  {
   "cell_type": "code",
   "execution_count": 66,
   "id": "ff8b9de0",
   "metadata": {},
   "outputs": [
    {
     "name": "stdout",
     "output_type": "stream",
     "text": [
      "Root Mean Squared Error: 137.72975262595605\n"
     ]
    }
   ],
   "source": [
    "rf_tuned = RandomForestRegressor(n_estimators=200,\n",
    "                           max_depth=2,\n",
    "                           min_samples_leaf=20,\n",
    "                           random_state=SEED,\n",
    "                           n_jobs=-1)\n",
    "\n",
    "model_score(rf_tuned)"
   ]
  },
  {
   "cell_type": "code",
   "execution_count": 67,
   "id": "6d332f31",
   "metadata": {},
   "outputs": [
    {
     "name": "stdout",
     "output_type": "stream",
     "text": [
      "vs_RF_1102135646.csv has been saved!\n"
     ]
    }
   ],
   "source": [
    "#submissie(rf, 'RF')"
   ]
  },
  {
   "cell_type": "markdown",
   "id": "2a5cdfce",
   "metadata": {},
   "source": [
    "### **XGBoost**\n",
    "\n",
    "Als __ keuze model is er gekozen om gebruik te maken van XGBoost Regressor. Dit model heeft enkele voordelen die er toe hebben geleid om dit model te kiezen. Volgens Kumar (2019) is een van de voordelen de regularisatie van een XGBoost model. Dit model bevat zowel Lasso (L1) als Ridge (L2) regularisatie, wat ervoor zorgt dat het model moeilijker overfit. Via de Scikit Learn libary is het mogelijk om verschillende waarden, als hyperparameters, toe te voegen aan het model. De parameter alpha is voor L1 regularisatie en de parameter lambda is voor L2 regularisatie.\n",
    "\n",
    "Een ander voordeel is de manier waarop het model pruning toepast. Bij een XGBoost model worden de bomen pas aan het einde van het model gepruned. Dit zorgt ervoor dat als er een enkele split met een negative loss voorkomt, het model niet de tak daar laat stoppen. Het model zal eerst doorgaan tot de aangegeven max_depth voordat deze gaat prunen. (Kumar, 2019)\n",
    "\n",
    "Daarnaast is een ander groot voordeel dat XGBoost een parallel lopende ensemble is. Dit betekent dat de bomen tegelijkertijd kunnen worden opgebouwd, in tegen stelling to achtereenvolgend. Dit zorgt voornamelijk in een kortere run time bij het trainen van het model. (Hanchman, 2023)\n",
    "\n",
    "Als eerste stap trainen we een model met enkel de standaard parameters."
   ]
  },
  {
   "cell_type": "code",
   "execution_count": 91,
   "id": "17d7acf9",
   "metadata": {},
   "outputs": [
    {
     "name": "stdout",
     "output_type": "stream",
     "text": [
      "Root Mean Squared Error: 85.37323019546159\n"
     ]
    }
   ],
   "source": [
    "from xgboost import XGBRegressor\n",
    "xgb = XGBRegressor(n_jobs=-1)\n",
    "\n",
    "model_score(xgb)"
   ]
  },
  {
   "cell_type": "markdown",
   "id": "60783bee",
   "metadata": {},
   "source": [
    "Nu zal er een parameter grid aangemaakt worden voor een Grid Search CV, om zo de optimale hyperparameters te kunnen bepalen."
   ]
  },
  {
   "cell_type": "code",
   "execution_count": 96,
   "id": "298d49f2",
   "metadata": {},
   "outputs": [],
   "source": [
    "param_grid = {\n",
    "    'n_estimators': [100, 200, 300],\n",
    "    'learning_rate': [0.01, 0.1, 0.2, 0.3],\n",
    "    'max_depth': [3, 4, 5, 6],\n",
    "    'gamma': [0, 0.1, 0.2, 0.3],\n",
    "    'reg_alpha': [0, 0.1, 0.5, 1],\n",
    "    'reg_lambda': [0, 1, 1.5, 2]\n",
    "}"
   ]
  },
  {
   "cell_type": "code",
   "execution_count": 97,
   "id": "8739c2f7",
   "metadata": {},
   "outputs": [
    {
     "name": "stdout",
     "output_type": "stream",
     "text": [
      "Beste RMSE: 87.1917224640346\n",
      "Beste parameters:\n",
      "{'gamma': 0, 'learning_rate': 0.1, 'max_depth': 6, 'n_estimators': 100, 'reg_alpha': 0, 'reg_lambda': 2}\n"
     ]
    }
   ],
   "source": [
    "grid_score(xgb, param_grid)"
   ]
  },
  {
   "cell_type": "markdown",
   "id": "323d3408",
   "metadata": {},
   "source": [
    "Nu deze parameters bekend zijn, kunnen deze worden ingevoerd in het model. Op deze manier zal het model beter presteren."
   ]
  },
  {
   "cell_type": "code",
   "execution_count": 99,
   "id": "6ac3463a",
   "metadata": {},
   "outputs": [
    {
     "name": "stdout",
     "output_type": "stream",
     "text": [
      "Root Mean Squared Error: 84.08918300764346\n"
     ]
    }
   ],
   "source": [
    "xgb_tuned = XGBRegressor(n_estimators=100,\n",
    "                         learning_rate=0.1,\n",
    "                         max_depth=6,\n",
    "                         gamma=0,\n",
    "                         reg_alpha=0,\n",
    "                         reg_lambda=2,\n",
    "                         random_state=SEED,\n",
    "                         n_jobs=-1)\n",
    "\n",
    "model_score(xgb_tuned)"
   ]
  },
  {
   "cell_type": "code",
   "execution_count": 100,
   "id": "2f8922af",
   "metadata": {},
   "outputs": [
    {
     "name": "stdout",
     "output_type": "stream",
     "text": [
      "vs_XGB_1103072541.csv has been saved!\n"
     ]
    }
   ],
   "source": [
    "#submissie(xgb_tuned, 'XGB')"
   ]
  },
  {
   "cell_type": "markdown",
   "id": "fc1be7f2",
   "metadata": {},
   "source": [
    "## **BRONNEN**\n",
    "\n",
    "**XGBoost**:\n",
    "\n",
    "Kumar, N. (9 maart 2019). Advantages of XGBOOST Algorithm in Machine Learning. http://theprofessionalspoint.blogspot.com/2019/03/advantages-of-xgboost-algorithm-in.html\n",
    "\n",
    "Hachcham, A. (2023, August 11). XGBoost: Everything you need to know. neptune.ai. https://neptune.ai/blog/xgboost-everything-you-need-to-know"
   ]
  }
 ],
 "metadata": {
  "kernelspec": {
   "display_name": "Python 3 (ipykernel)",
   "language": "python",
   "name": "python3"
  },
  "language_info": {
   "codemirror_mode": {
    "name": "ipython",
    "version": 3
   },
   "file_extension": ".py",
   "mimetype": "text/x-python",
   "name": "python",
   "nbconvert_exporter": "python",
   "pygments_lexer": "ipython3",
   "version": "3.12.0"
  }
 },
 "nbformat": 4,
 "nbformat_minor": 5
}
